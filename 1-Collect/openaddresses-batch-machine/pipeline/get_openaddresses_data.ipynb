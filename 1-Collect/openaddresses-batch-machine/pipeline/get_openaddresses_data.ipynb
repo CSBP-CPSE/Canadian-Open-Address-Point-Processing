{
 "cells": [
  {
   "cell_type": "markdown",
   "metadata": {},
   "source": [
    "# Summary\n",
    "\n",
    "Uses the OpenAddresses tooling to \n",
    "\n",
    "* download data based on a user-defined JSON source specification\n",
    "* save the data in a user-defined location in MinIO\n",
    "\n",
    "Usage: \n",
    "\n",
    "* Edit the below settings and run notebook"
   ]
  },
  {
   "cell_type": "code",
   "execution_count": 2,
   "metadata": {
    "execution": {
     "iopub.execute_input": "2020-12-08T14:28:18.106743Z",
     "iopub.status.busy": "2020-12-08T14:28:18.106481Z",
     "iopub.status.idle": "2020-12-08T14:28:18.505515Z",
     "shell.execute_reply": "2020-12-08T14:28:18.504705Z",
     "shell.execute_reply.started": "2020-12-08T14:28:18.106717Z"
    }
   },
   "outputs": [],
   "source": [
    "import json\n",
    "\n",
    "import kfp\n",
    "from kfp.components import load_component_from_file\n",
    "from kfp import dsl"
   ]
  },
  {
   "cell_type": "markdown",
   "metadata": {},
   "source": [
    "# User settings:"
   ]
  },
  {
   "cell_type": "code",
   "execution_count": 3,
   "metadata": {
    "execution": {
     "iopub.execute_input": "2020-12-08T14:28:19.240547Z",
     "iopub.status.busy": "2020-12-08T14:28:19.240237Z",
     "iopub.status.idle": "2020-12-08T14:28:19.244615Z",
     "shell.execute_reply": "2020-12-08T14:28:19.243820Z",
     "shell.execute_reply.started": "2020-12-08T14:28:19.240517Z"
    }
   },
   "outputs": [],
   "source": [
    "minio_bucket_name = 'deil-lode'\n",
    "json_source_file = \"/home/jovyan/Processing/ODA/Source_Files/nl/city_of_saint_johns.json\"\n",
    "minio_tenant = 'minimal'\n",
    "openaddresses_args = \"--layer addresses --layersource city\"\n",
    "minio_output_uri = f'{minio_bucket_name}/ODA/OA_Processing/Output/nl/city_of_saint_johns'"
   ]
  },
  {
   "cell_type": "markdown",
   "metadata": {},
   "source": [
    "# Additional Inputs for Debugging/Testing:\n",
    "\n",
    "If testing/debugging, you can use the following demo JSON file.  \n",
    "\n",
    "You can also use this method to write your own JSON file from the notebook if that makes sense for your workflow. "
   ]
  },
  {
   "cell_type": "code",
   "execution_count": 4,
   "metadata": {
    "execution": {
     "iopub.execute_input": "2020-12-08T14:28:20.323319Z",
     "iopub.status.busy": "2020-12-08T14:28:20.322913Z",
     "iopub.status.idle": "2020-12-08T14:28:20.327183Z",
     "shell.execute_reply": "2020-12-08T14:28:20.326452Z",
     "shell.execute_reply.started": "2020-12-08T14:28:20.323279Z"
    }
   },
   "outputs": [],
   "source": [
    "# %%writefile $json_source_file\n",
    "# {\n",
    "#     \"coverage\": {\n",
    "#         \"country\": \"ca\",\n",
    "#         \"state\": \"ab\",\n",
    "#         \"city\": \"Calgary\",\n",
    "#         \"geometry\": {\n",
    "#             \"type\": \"Point\",\n",
    "#             \"coordinates\": [\n",
    "#                 -114.08,\n",
    "#                 51.08\n",
    "#             ]\n",
    "#         }\n",
    "#     },\n",
    "#     \"schema\": 2,\n",
    "#     \"layers\": {\n",
    "#         \"addresses\": [\n",
    "#             {\n",
    "#                 \"name\": \"city\",\n",
    "#                 \"data\": \"https://data.calgary.ca/api/views/uwj2-d2wc/rows.csv?accessType=DOWNLOAD\",\n",
    "#                 \"website\": \"https://data.calgary.ca/\",\n",
    "#                 \"license\": {\n",
    "#                     \"url\": \"https://data.calgary.ca/stories/s/Open-Calgary-Terms-of-Use/u45n-7awa\",\n",
    "#                     \"text\": \"Contains information licensed under the Open Government Licence – City of Calgary.\",\n",
    "#                     \"attribution name\": \"City of Calgary\"\n",
    "#                 },\n",
    "#                 \"protocol\": \"http\",\n",
    "#                 \"conform\": {\n",
    "#                     \"format\": \"csv\",\n",
    "#                     \"lat\": \"latitude\",\n",
    "#                     \"lon\": \"longitude\",\n",
    "#                     \"number\": {\n",
    "#                         \"function\": \"join\",\n",
    "#                         \"fields\": [\n",
    "#                             \"HOUSE_NUMBER\",\n",
    "#                             \"HOUSE_ALPHA\"\n",
    "#                         ],\n",
    "#                         \"separator\": \"\"\n",
    "#                     },\n",
    "#                     \"street\": [\n",
    "#                         \"STREET_NAME\",\n",
    "#                         \"STREET_TYPE\",\n",
    "#                         \"STREET_QUAD\"\n",
    "#                     ],\n",
    "#                     \"str_name\": \"STREET_NAME\",\n",
    "#                     \"str_type\": \"STREET_TYPE\",\n",
    "#                     \"str_dir\": \"STREET_QUAD\",\n",
    "#                     \"full_addr\": \"ADDRESS\"\n",
    "#                 },\n",
    "#                 \"attribution\": \"City of Calgary\"\n",
    "#             }\n",
    "#         ]\n",
    "#     }\n",
    "# }"
   ]
  },
  {
   "cell_type": "markdown",
   "metadata": {},
   "source": [
    "# Component/Pipeline definitions"
   ]
  },
  {
   "cell_type": "code",
   "execution_count": 5,
   "metadata": {
    "execution": {
     "iopub.execute_input": "2020-12-08T14:28:21.327279Z",
     "iopub.status.busy": "2020-12-08T14:28:21.326962Z",
     "iopub.status.idle": "2020-12-08T14:28:21.348263Z",
     "shell.execute_reply": "2020-12-08T14:28:21.347660Z",
     "shell.execute_reply.started": "2020-12-08T14:28:21.327251Z"
    }
   },
   "outputs": [],
   "source": [
    "openaddresses_get_op = load_component_from_file(\n",
    "    \"./components/openaddresses_get_data.yaml\"\n",
    ")\n",
    "copy_to_minio_op = load_component_from_file(\n",
    "    \"./components/copy_to_minio.yaml\"\n",
    ")"
   ]
  },
  {
   "cell_type": "code",
   "execution_count": 6,
   "metadata": {
    "execution": {
     "iopub.execute_input": "2020-12-08T14:28:21.935344Z",
     "iopub.status.busy": "2020-12-08T14:28:21.934948Z",
     "iopub.status.idle": "2020-12-08T14:28:21.941693Z",
     "shell.execute_reply": "2020-12-08T14:28:21.940962Z",
     "shell.execute_reply.started": "2020-12-08T14:28:21.935305Z"
    }
   },
   "outputs": [],
   "source": [
    "@dsl.pipeline(\n",
    "    name=\"Download OpenAddresses Data to Minio\"\n",
    ")\n",
    "def pipeline(\n",
    "    source_json,\n",
    "    minio_output_uri: str,\n",
    "    # TODO: Handle these automatically once multitenancy is available\n",
    "    minio_url,\n",
    "    minio_access_key: str,\n",
    "    minio_secret_key: str,\n",
    "    openaddresses_args: str = \"\",\n",
    "):\n",
    "    operations = {}\n",
    "\n",
    "    operations['Get Data'] = openaddresses_get_op(\n",
    "        source_json=source_json,\n",
    "        args=openaddresses_args,\n",
    "    ).set_image_pull_policy(\"Always\")\n",
    "\n",
    "    operations['Store Data'] = copy_to_minio_op(\n",
    "        local_source=operations['Get Data'].outputs['data'],\n",
    "        minio_destination=minio_output_uri,\n",
    "        minio_url=minio_url,\n",
    "        minio_access_key=minio_access_key,\n",
    "        minio_secret_key=minio_secret_key,\n",
    "        flags=\"--recursive\",  # Because outputs['data'] is a directory\n",
    "    )\n",
    "    # Set all operations display names to their key in the operations dict\n",
    "    for name, op in operations.items():\n",
    "        op.set_display_name(name)"
   ]
  },
  {
   "cell_type": "markdown",
   "metadata": {},
   "source": [
    "# Build pipeline arguments"
   ]
  },
  {
   "cell_type": "markdown",
   "metadata": {},
   "source": [
    "## Load the JSON source file"
   ]
  },
  {
   "cell_type": "code",
   "execution_count": 7,
   "metadata": {
    "execution": {
     "iopub.execute_input": "2020-12-08T14:28:24.182313Z",
     "iopub.status.busy": "2020-12-08T14:28:24.181983Z",
     "iopub.status.idle": "2020-12-08T14:28:24.189630Z",
     "shell.execute_reply": "2020-12-08T14:28:24.188899Z",
     "shell.execute_reply.started": "2020-12-08T14:28:24.182282Z"
    }
   },
   "outputs": [
    {
     "name": "stdout",
     "output_type": "stream",
     "text": [
      "Trying to access minio credentials from:\n",
      "/vault/secrets/minio-minimal-tenant1\n"
     ]
    }
   ],
   "source": [
    "with open(json_source_file, 'r') as fin:\n",
    "    source_json = json.load(fin)\n",
    "\n",
    "# Get MinIO credentials from the Notebook Server (could also specify these things manually)\n",
    "from utilities import get_minio_credentials\n",
    "\n",
    "minio_settings = get_minio_credentials(minio_tenant, strip_http=False)\n",
    "minio_url = minio_settings[\"url\"]\n",
    "minio_access_key = minio_settings[\"access_key\"]\n",
    "minio_secret_key = minio_settings[\"secret_key\"]\n",
    "\n",
    "arguments = dict(\n",
    "    source_json=json.dumps(source_json),\n",
    "    openaddresses_args=openaddresses_args,\n",
    "    minio_output_uri=minio_output_uri,\n",
    "    minio_url=minio_url,\n",
    "    minio_access_key=minio_access_key,\n",
    "    minio_secret_key=minio_secret_key,\n",
    ")"
   ]
  },
  {
   "cell_type": "markdown",
   "metadata": {
    "execution": {
     "iopub.execute_input": "2020-10-30T17:29:39.157985Z",
     "iopub.status.busy": "2020-10-30T17:29:39.157727Z",
     "iopub.status.idle": "2020-10-30T17:29:39.164032Z",
     "shell.execute_reply": "2020-10-30T17:29:39.163404Z",
     "shell.execute_reply.started": "2020-10-30T17:29:39.157960Z"
    }
   },
   "source": [
    "# Get minio credentials using a helper"
   ]
  },
  {
   "cell_type": "markdown",
   "metadata": {
    "execution": {
     "iopub.execute_input": "2020-10-30T17:29:39.157985Z",
     "iopub.status.busy": "2020-10-30T17:29:39.157727Z",
     "iopub.status.idle": "2020-10-30T17:29:39.164032Z",
     "shell.execute_reply": "2020-10-30T17:29:39.163404Z",
     "shell.execute_reply.started": "2020-10-30T17:29:39.157960Z"
    }
   },
   "source": [
    "# Run the pipeline"
   ]
  },
  {
   "cell_type": "markdown",
   "metadata": {
    "execution": {
     "iopub.execute_input": "2020-10-30T17:29:39.157985Z",
     "iopub.status.busy": "2020-10-30T17:29:39.157727Z",
     "iopub.status.idle": "2020-10-30T17:29:39.164032Z",
     "shell.execute_reply": "2020-10-30T17:29:39.163404Z",
     "shell.execute_reply.started": "2020-10-30T17:29:39.157960Z"
    }
   },
   "source": [
    "from utilities import get_minio_credentials\n",
    "\n",
    "minio_settings = get_minio_credentials(minio_tenant, strip_http=False)\n",
    "minio_url = minio_settings[\"url\"]\n",
    "minio_access_key = minio_settings[\"access_key\"]\n",
    "minio_secret_key = minio_settings[\"secret_key\"]\n",
    "\n",
    "arguments = dict(\n",
    "    source_json=json.dumps(source_json),\n",
    "    openaddresses_args=openaddresses_args,\n",
    "    minio_output_uri=minio_output_uri,\n",
    "    minio_url=minio_url,\n",
    "    minio_access_key=minio_access_key,\n",
    "    minio_secret_key=minio_secret_key,\n",
    ")\n"
   ]
  },
  {
   "cell_type": "code",
   "execution_count": 8,
   "metadata": {
    "execution": {
     "iopub.execute_input": "2020-12-08T14:28:47.510999Z",
     "iopub.status.busy": "2020-12-08T14:28:47.510608Z",
     "iopub.status.idle": "2020-12-08T14:28:47.699015Z",
     "shell.execute_reply": "2020-12-08T14:28:47.697972Z",
     "shell.execute_reply.started": "2020-12-08T14:28:47.510959Z"
    }
   },
   "outputs": [
    {
     "data": {
      "text/html": [
       "Experiment link <a href=\"/pipeline/#/experiments/details/745736c2-db59-4b06-bbea-94d83d30d256\" target=\"_blank\" >here</a>"
      ],
      "text/plain": [
       "<IPython.core.display.HTML object>"
      ]
     },
     "metadata": {},
     "output_type": "display_data"
    },
    {
     "data": {
      "text/html": [
       "Run link <a href=\"/pipeline/#/runs/details/8b3f12f0-635f-4210-a28a-35e0bacfa175\" target=\"_blank\" >here</a>"
      ],
      "text/plain": [
       "<IPython.core.display.HTML object>"
      ]
     },
     "metadata": {},
     "output_type": "display_data"
    }
   ],
   "source": [
    "pipeline_run = kfp.Client().create_run_from_pipeline_func(\n",
    "    pipeline,\n",
    "    arguments=arguments,\n",
    "    run_name=\"openaddresses-get-store-data\"\n",
    ")"
   ]
  },
  {
   "cell_type": "code",
   "execution_count": null,
   "metadata": {},
   "outputs": [],
   "source": []
  }
 ],
 "metadata": {
  "kernelspec": {
   "display_name": "Python 3",
   "language": "python",
   "name": "python3"
  },
  "language_info": {
   "codemirror_mode": {
    "name": "ipython",
    "version": 3
   },
   "file_extension": ".py",
   "mimetype": "text/x-python",
   "name": "python",
   "nbconvert_exporter": "python",
   "pygments_lexer": "ipython3",
   "version": "3.8.6"
  }
 },
 "nbformat": 4,
 "nbformat_minor": 4
}
