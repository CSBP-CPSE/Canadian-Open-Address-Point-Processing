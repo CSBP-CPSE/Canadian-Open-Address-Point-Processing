{
 "cells": [
  {
   "cell_type": "markdown",
   "metadata": {},
   "source": [
    "# Summary\n",
    "\n",
    "Uses the OpenAddresses tooling to \n",
    "\n",
    "* download data based on a user-defined JSON source specification\n",
    "* save the data in a user-defined location in MinIO\n",
    "\n",
    "Usage: \n",
    "\n",
    "* Edit the below settings and run notebook"
   ]
  },
  {
   "cell_type": "code",
   "execution_count": 1,
   "metadata": {
    "execution": {
     "iopub.execute_input": "2021-01-14T20:40:42.312871Z",
     "iopub.status.busy": "2021-01-14T20:40:42.312517Z",
     "iopub.status.idle": "2021-01-14T20:40:43.108953Z",
     "shell.execute_reply": "2021-01-14T20:40:43.107897Z",
     "shell.execute_reply.started": "2021-01-14T20:40:42.312828Z"
    }
   },
   "outputs": [],
   "source": [
    "import json\n",
    "\n",
    "import kfp\n",
    "from kfp.components import load_component_from_file\n",
    "from kfp.compiler import Compiler\n",
    "from kfp import dsl"
   ]
  },
  {
   "cell_type": "markdown",
   "metadata": {},
   "source": [
    "# Component/Pipeline definitions"
   ]
  },
  {
   "cell_type": "code",
   "execution_count": 2,
   "metadata": {
    "execution": {
     "iopub.execute_input": "2021-01-14T20:40:44.098154Z",
     "iopub.status.busy": "2021-01-14T20:40:44.097877Z",
     "iopub.status.idle": "2021-01-14T20:40:44.132598Z",
     "shell.execute_reply": "2021-01-14T20:40:44.131745Z",
     "shell.execute_reply.started": "2021-01-14T20:40:44.098128Z"
    }
   },
   "outputs": [],
   "source": [
    "openaddresses_get_op = load_component_from_file(\n",
    "    \"./components/openaddresses_get_data.yaml\"\n",
    ")\n",
    "copy_to_minio_op = load_component_from_file(\n",
    "    \"./components/copy_to_minio.yaml\"\n",
    ")"
   ]
  },
  {
   "cell_type": "code",
   "execution_count": 3,
   "metadata": {
    "execution": {
     "iopub.execute_input": "2021-01-14T20:40:45.408458Z",
     "iopub.status.busy": "2021-01-14T20:40:45.408173Z",
     "iopub.status.idle": "2021-01-14T20:40:45.414474Z",
     "shell.execute_reply": "2021-01-14T20:40:45.413835Z",
     "shell.execute_reply.started": "2021-01-14T20:40:45.408432Z"
    }
   },
   "outputs": [],
   "source": [
    "@dsl.pipeline(\n",
    "    name=\"Download OpenAddresses Data to Minio\"\n",
    ")\n",
    "def pipeline(\n",
    "    source_json,\n",
    "    minio_output_uri: str,\n",
    "    # TODO: Handle these automatically once multitenancy is available\n",
    "    minio_url,\n",
    "    minio_access_key: str,\n",
    "    minio_secret_key: str,\n",
    "    openaddresses_args: str = \"\",\n",
    "):\n",
    "    operations = {}\n",
    "\n",
    "    operations['Get Data'] = openaddresses_get_op(\n",
    "        source_json=source_json,\n",
    "        args=openaddresses_args,\n",
    "    ).set_image_pull_policy(\"Always\").set_cpu_request('1000m').set_cpu_limit('1000m').set_memory_request('2G').set_memory_limit('2G')\n",
    "\n",
    "    operations['Store Data'] = copy_to_minio_op(\n",
    "        local_source=operations['Get Data'].outputs['data'],\n",
    "        minio_destination=minio_output_uri,\n",
    "        minio_url=minio_url,\n",
    "        minio_access_key=minio_access_key,\n",
    "        minio_secret_key=minio_secret_key,\n",
    "        flags=\"--recursive\",  # Because outputs['data'] is a directory\n",
    "    ).set_cpu_request('1000m').set_cpu_limit('1000m').set_memory_request('2G').set_memory_limit('2G')\n",
    "    # Set all operations display names to their key in the operations dict\n",
    "    for name, op in operations.items():\n",
    "        op.set_display_name(name)"
   ]
  },
  {
   "cell_type": "markdown",
   "metadata": {},
   "source": [
    "# Compile pipeline into yaml file"
   ]
  },
  {
   "cell_type": "code",
   "execution_count": 4,
   "metadata": {
    "execution": {
     "iopub.execute_input": "2021-01-14T20:40:47.020902Z",
     "iopub.status.busy": "2021-01-14T20:40:47.020583Z",
     "iopub.status.idle": "2021-01-14T20:40:47.076669Z",
     "shell.execute_reply": "2021-01-14T20:40:47.075624Z",
     "shell.execute_reply.started": "2021-01-14T20:40:47.020874Z"
    }
   },
   "outputs": [],
   "source": [
    "Compiler().compile(pipeline_func=pipeline, package_path='OpenAddressesPipeline.tar.gz')"
   ]
  },
  {
   "cell_type": "code",
   "execution_count": 5,
   "metadata": {
    "execution": {
     "iopub.execute_input": "2021-01-14T20:40:47.952139Z",
     "iopub.status.busy": "2021-01-14T20:40:47.951861Z",
     "iopub.status.idle": "2021-01-14T20:40:47.956327Z",
     "shell.execute_reply": "2021-01-14T20:40:47.954935Z",
     "shell.execute_reply.started": "2021-01-14T20:40:47.952114Z"
    }
   },
   "outputs": [],
   "source": [
    "## Upload pipeline to server"
   ]
  },
  {
   "cell_type": "code",
   "execution_count": 7,
   "metadata": {
    "execution": {
     "iopub.execute_input": "2021-01-14T20:41:40.625459Z",
     "iopub.status.busy": "2021-01-14T20:41:40.625065Z",
     "iopub.status.idle": "2021-01-14T20:41:40.778296Z",
     "shell.execute_reply": "2021-01-14T20:41:40.777319Z",
     "shell.execute_reply.started": "2021-01-14T20:41:40.625425Z"
    }
   },
   "outputs": [
    {
     "data": {
      "text/html": [
       "<a href=/_/pipeline/#/pipelines/details/9a0c0248-0448-4b59-9345-57581d2bbb7c>Pipeline details</a>."
      ],
      "text/plain": [
       "<IPython.core.display.HTML object>"
      ]
     },
     "metadata": {},
     "output_type": "display_data"
    },
    {
     "data": {
      "text/plain": [
       "{'created_at': datetime.datetime(2021, 1, 14, 20, 41, 40, tzinfo=tzlocal()),\n",
       " 'default_version': {'code_source_url': None,\n",
       "                     'created_at': datetime.datetime(2021, 1, 14, 20, 41, 40, tzinfo=tzlocal()),\n",
       "                     'id': '9a0c0248-0448-4b59-9345-57581d2bbb7c',\n",
       "                     'name': 'OpenAddressesPipeline_1CPU',\n",
       "                     'package_url': None,\n",
       "                     'parameters': [{'name': 'source_json', 'value': None},\n",
       "                                    {'name': 'minio_output_uri', 'value': None},\n",
       "                                    {'name': 'minio_url', 'value': None},\n",
       "                                    {'name': 'minio_access_key', 'value': None},\n",
       "                                    {'name': 'minio_secret_key', 'value': None},\n",
       "                                    {'name': 'openaddresses_args',\n",
       "                                     'value': None}],\n",
       "                     'resource_references': [{'key': {'id': '9a0c0248-0448-4b59-9345-57581d2bbb7c',\n",
       "                                                      'type': 'PIPELINE'},\n",
       "                                              'name': None,\n",
       "                                              'relationship': 'OWNER'}]},\n",
       " 'description': 'Read in json input file to run OpenAddresses processing '\n",
       "                'scripts to download and process address data',\n",
       " 'error': None,\n",
       " 'id': '9a0c0248-0448-4b59-9345-57581d2bbb7c',\n",
       " 'name': 'OpenAddressesPipeline_1CPU',\n",
       " 'parameters': [{'name': 'source_json', 'value': None},\n",
       "                {'name': 'minio_output_uri', 'value': None},\n",
       "                {'name': 'minio_url', 'value': None},\n",
       "                {'name': 'minio_access_key', 'value': None},\n",
       "                {'name': 'minio_secret_key', 'value': None},\n",
       "                {'name': 'openaddresses_args', 'value': None}],\n",
       " 'url': None}"
      ]
     },
     "execution_count": 7,
     "metadata": {},
     "output_type": "execute_result"
    }
   ],
   "source": [
    "kfp.Client().upload_pipeline(pipeline_package_path='OpenAddressesPipeline.tar.gz' , pipeline_name = \"OpenAddressesPipeline_1CPU\", description = \"Read in json input file to run OpenAddresses processing scripts to download and process address data\")"
   ]
  },
  {
   "cell_type": "code",
   "execution_count": null,
   "metadata": {},
   "outputs": [],
   "source": []
  }
 ],
 "metadata": {
  "kernelspec": {
   "display_name": "Python 3",
   "language": "python",
   "name": "python3"
  },
  "kubeflow_notebook": {
   "autosnapshot": false,
   "docker_image": "k8scc01covidacr.azurecr.io/jupyterlab-cpu:c9451340",
   "experiment": {
    "id": "",
    "name": ""
   },
   "experiment_name": "",
   "katib_metadata": {
    "algorithm": {
     "algorithmName": "grid"
    },
    "maxFailedTrialCount": 3,
    "maxTrialCount": 12,
    "objective": {
     "objectiveMetricName": "",
     "type": "minimize"
    },
    "parallelTrialCount": 3,
    "parameters": []
   },
   "katib_run": false,
   "pipeline_description": "",
   "pipeline_name": "",
   "snapshot_volumes": false,
   "steps_defaults": [],
   "volume_access_mode": "rwm",
   "volumes": []
  },
  "language_info": {
   "codemirror_mode": {
    "name": "ipython",
    "version": 3
   },
   "file_extension": ".py",
   "mimetype": "text/x-python",
   "name": "python",
   "nbconvert_exporter": "python",
   "pygments_lexer": "ipython3",
   "version": "3.8.6"
  }
 },
 "nbformat": 4,
 "nbformat_minor": 4
}
