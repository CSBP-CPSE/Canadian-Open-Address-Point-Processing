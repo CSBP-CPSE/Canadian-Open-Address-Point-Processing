{
 "cells": [
  {
   "cell_type": "markdown",
   "metadata": {},
   "source": [
    "# Summary\n",
    "\n",
    "Uses the OpenAddresses pipeline to run jobs for all input json source files\n"
   ]
  },
  {
   "cell_type": "code",
   "execution_count": 10,
   "metadata": {
    "execution": {
     "iopub.execute_input": "2021-02-24T16:19:03.276104Z",
     "iopub.status.busy": "2021-02-24T16:19:03.275652Z",
     "iopub.status.idle": "2021-02-24T16:19:03.283513Z",
     "shell.execute_reply": "2021-02-24T16:19:03.282728Z",
     "shell.execute_reply.started": "2021-02-24T16:19:03.276058Z"
    }
   },
   "outputs": [],
   "source": [
    "import json\n",
    "\n",
    "import kfp\n",
    "from kfp.components import load_component_from_file\n",
    "from kfp import dsl\n",
    "from os import listdir\n",
    "from utilities_1 import get_minio_credentials\n"
   ]
  },
  {
   "cell_type": "markdown",
   "metadata": {},
   "source": [
    "# User settings:"
   ]
  },
  {
   "cell_type": "code",
   "execution_count": 11,
   "metadata": {
    "execution": {
     "iopub.execute_input": "2021-02-24T16:19:04.409513Z",
     "iopub.status.busy": "2021-02-24T16:19:04.409053Z",
     "iopub.status.idle": "2021-02-24T16:19:04.417965Z",
     "shell.execute_reply": "2021-02-24T16:19:04.416741Z",
     "shell.execute_reply.started": "2021-02-24T16:19:04.409467Z"
    }
   },
   "outputs": [
    {
     "name": "stdout",
     "output_type": "stream",
     "text": [
      "Trying to access minio credentials from:\n",
      "/vault/secrets/minio-standard-tenant-1\n"
     ]
    }
   ],
   "source": [
    "OA_path = \"/home/jovyan/data-vol-1/ODA/openaddresses_mod/sources/ca\"\n",
    "pr = \"qc\"\n",
    "s = \"repentigny.json\"\n",
    "minio_bucket_name = 'deil-lode'\n",
    "minio_tenant = 'standard'\n",
    "date='2021-02-24'\n",
    "\n",
    "\n",
    "minio_settings = get_minio_credentials(minio_tenant, strip_http=False)\n",
    "minio_url = minio_settings[\"url\"]\n",
    "minio_access_key = minio_settings[\"access_key\"]\n",
    "minio_secret_key = minio_settings[\"secret_key\"]"
   ]
  },
  {
   "cell_type": "code",
   "execution_count": 12,
   "metadata": {
    "execution": {
     "iopub.execute_input": "2021-02-24T16:19:09.519717Z",
     "iopub.status.busy": "2021-02-24T16:19:09.519012Z",
     "iopub.status.idle": "2021-02-24T16:19:09.812542Z",
     "shell.execute_reply": "2021-02-24T16:19:09.811790Z",
     "shell.execute_reply.started": "2021-02-24T16:19:09.519666Z"
    }
   },
   "outputs": [
    {
     "data": {
      "text/html": [
       "<a href=\"/_/pipeline/#/experiments/details/9e37b119-3bcd-410e-a1d9-7ce07e1d81ed\" target=\"_blank\" >Experiment details</a>."
      ],
      "text/plain": [
       "<IPython.core.display.HTML object>"
      ]
     },
     "metadata": {},
     "output_type": "display_data"
    },
    {
     "data": {
      "text/html": [
       "<a href=\"/_/pipeline/#/runs/details/1eebe01a-87de-42b0-b23c-2d8f77217bbc\" target=\"_blank\" >Run details</a>."
      ],
      "text/plain": [
       "<IPython.core.display.HTML object>"
      ]
     },
     "metadata": {},
     "output_type": "display_data"
    }
   ],
   "source": [
    "\n",
    "json_source_file = \"{}/{}/{}\".format(OA_path,pr,s)\n",
    "with open(json_source_file, 'r') as fin:\n",
    "    source_json = json.load(fin)\n",
    "    layer = source_json['layers']['addresses'][0]['name']\n",
    "    name = pr+'_'+s.replace('.json','')\n",
    "    openaddresses_args = \"--layer addresses --layersource {}\".format(layer)\n",
    "    minio_output_uri = '{}/ODA/OA_Processing/Output/{}/{}/{}'.format(minio_bucket_name, date, pr, name)\n",
    "    arguments = dict(\n",
    "        source_json=json.dumps(source_json),\n",
    "        openaddresses_args=openaddresses_args,\n",
    "        minio_output_uri=minio_output_uri,\n",
    "        minio_url=minio_url,\n",
    "        minio_access_key=minio_access_key,\n",
    "        minio_secret_key=minio_secret_key,\n",
    "                )\n",
    "    client = kfp.Client()\n",
    "    experiment = client.create_experiment(name=name)\n",
    "    pipeline_run = kfp.Client().run_pipeline(\n",
    "        experiment_id=experiment.id,\n",
    "        pipeline_id='',\n",
    "        params=arguments,\n",
    "        job_name=name\n",
    "            )\n"
   ]
  },
  {
   "cell_type": "code",
   "execution_count": 9,
   "metadata": {
    "execution": {
     "iopub.execute_input": "2021-01-18T17:42:18.505610Z",
     "iopub.status.busy": "2021-01-18T17:42:18.505349Z",
     "iopub.status.idle": "2021-01-18T17:42:18.510309Z",
     "shell.execute_reply": "2021-01-18T17:42:18.509268Z",
     "shell.execute_reply.started": "2021-01-18T17:42:18.505586Z"
    }
   },
   "outputs": [
    {
     "name": "stdout",
     "output_type": "stream",
     "text": [
      "province.json\n"
     ]
    }
   ],
   "source": [
    "print(s)"
   ]
  },
  {
   "cell_type": "code",
   "execution_count": 7,
   "metadata": {
    "execution": {
     "iopub.execute_input": "2021-01-05T18:55:12.922384Z",
     "iopub.status.busy": "2021-01-05T18:55:12.922130Z",
     "iopub.status.idle": "2021-01-05T18:55:12.926231Z",
     "shell.execute_reply": "2021-01-05T18:55:12.925491Z",
     "shell.execute_reply.started": "2021-01-05T18:55:12.922359Z"
    }
   },
   "outputs": [
    {
     "name": "stdout",
     "output_type": "stream",
     "text": [
      "{'coverage': {'country': 'ca', 'state': 'on', 'city': 'muskoka region'}, 'schema': 2, 'layers': {'addresses': [{'name': 'city', 'data': 'https://opendata.arcgis.com/datasets/7dbdeb9bc94b45d4a3296f73fba38a3c_0.zip', 'website': 'https://map.muskoka.on.ca/datasets/7dbdeb9bc94b45d4a3296f73fba38a3c_0', 'attribution': 'Muskoka Region', 'license': {'url': 'https://map.muskoka.on.ca/pages/terms-of-use', 'text': 'Contains information provided by the District Municipality of Muskoka under licence', 'attribution name': 'District Municipality of Muskoka – Open Data Licence v.1.0', 'attribution': True, 'share-alike': False}, 'protocol': 'http', 'compression': 'zip', 'conform': {'number': 'StreetNumb', 'street': 'StreetName', 'unit': 'StreetUnit', 'format': 'shapefile', 'full_addr': 'Location', 'city': 'Municipali'}}]}}\n"
     ]
    }
   ],
   "source": [
    "print(source_json)"
   ]
  },
  {
   "cell_type": "code",
   "execution_count": 33,
   "metadata": {
    "execution": {
     "iopub.execute_input": "2020-12-08T21:05:16.282918Z",
     "iopub.status.busy": "2020-12-08T21:05:16.282634Z",
     "iopub.status.idle": "2020-12-08T21:05:16.286967Z",
     "shell.execute_reply": "2020-12-08T21:05:16.286174Z",
     "shell.execute_reply.started": "2020-12-08T21:05:16.282887Z"
    }
   },
   "outputs": [
    {
     "name": "stdout",
     "output_type": "stream",
     "text": [
      "/home/jovyan/data-vol-1/openaddresses_mod/sources/ca/on/city_of_waterloo.json\n"
     ]
    }
   ],
   "source": [
    "print(json_source_file)"
   ]
  },
  {
   "cell_type": "code",
   "execution_count": null,
   "metadata": {},
   "outputs": [],
   "source": []
  }
 ],
 "metadata": {
  "kernelspec": {
   "display_name": "Python 3",
   "language": "python",
   "name": "python3"
  },
  "kubeflow_notebook": {
   "autosnapshot": false,
   "docker_image": "k8scc01covidacr.azurecr.io/jupyterlab-cpu:c9451340",
   "experiment": {
    "id": "",
    "name": ""
   },
   "experiment_name": "",
   "katib_metadata": {
    "algorithm": {
     "algorithmName": "grid"
    },
    "maxFailedTrialCount": 3,
    "maxTrialCount": 12,
    "objective": {
     "objectiveMetricName": "",
     "type": "minimize"
    },
    "parallelTrialCount": 3,
    "parameters": []
   },
   "katib_run": false,
   "pipeline_description": "",
   "pipeline_name": "",
   "snapshot_volumes": false,
   "steps_defaults": [],
   "volume_access_mode": "rwm",
   "volumes": []
  },
  "language_info": {
   "codemirror_mode": {
    "name": "ipython",
    "version": 3
   },
   "file_extension": ".py",
   "mimetype": "text/x-python",
   "name": "python",
   "nbconvert_exporter": "python",
   "pygments_lexer": "ipython3",
   "version": "3.8.6"
  }
 },
 "nbformat": 4,
 "nbformat_minor": 4
}
