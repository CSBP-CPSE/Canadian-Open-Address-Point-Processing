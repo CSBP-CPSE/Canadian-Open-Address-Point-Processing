{
 "cells": [
  {
   "cell_type": "markdown",
   "metadata": {},
   "source": [
    "# Summary\n",
    "\n",
    "Uses the OpenAddresses pipeline to run jobs for all input json source files\n"
   ]
  },
  {
   "cell_type": "code",
   "execution_count": 4,
   "metadata": {
    "execution": {
     "iopub.execute_input": "2021-01-15T18:48:07.880283Z",
     "iopub.status.busy": "2021-01-15T18:48:07.879943Z",
     "iopub.status.idle": "2021-01-15T18:48:07.883815Z",
     "shell.execute_reply": "2021-01-15T18:48:07.883195Z",
     "shell.execute_reply.started": "2021-01-15T18:48:07.880237Z"
    }
   },
   "outputs": [],
   "source": [
    "import json\n",
    "import pandas as pd\n",
    "import kfp\n",
    "from kfp.components import load_component_from_file\n",
    "from kfp import dsl\n",
    "from os import listdir\n",
    "from utilities import get_minio_credentials\n",
    "import time\n"
   ]
  },
  {
   "cell_type": "markdown",
   "metadata": {},
   "source": [
    "# User settings:"
   ]
  },
  {
   "cell_type": "code",
   "execution_count": 5,
   "metadata": {
    "execution": {
     "iopub.execute_input": "2021-01-15T18:48:08.790804Z",
     "iopub.status.busy": "2021-01-15T18:48:08.790523Z",
     "iopub.status.idle": "2021-01-15T18:48:08.795572Z",
     "shell.execute_reply": "2021-01-15T18:48:08.794973Z",
     "shell.execute_reply.started": "2021-01-15T18:48:08.790776Z"
    },
    "tags": []
   },
   "outputs": [
    {
     "name": "stdout",
     "output_type": "stream",
     "text": [
      "Trying to access minio credentials from:\n",
      "/vault/secrets/minio-minimal-tenant1\n"
     ]
    }
   ],
   "source": [
    "\n",
    "OA_path = \"PATH TO JSON SOURCE FILES\"\n",
    "minio_bucket_name = 'deil-lode'\n",
    "minio_tenant = 'minimal'\n",
    "#insert today's date\n",
    "date='INSERT TODAYS DATE'\n",
    "\n",
    "minio_settings = get_minio_credentials(minio_tenant, strip_http=False)\n",
    "minio_url = minio_settings[\"url\"]\n",
    "minio_access_key = minio_settings[\"access_key\"]\n",
    "minio_secret_key = minio_settings[\"secret_key\"]"
   ]
  },
  {
   "cell_type": "code",
   "execution_count": 6,
   "metadata": {
    "execution": {
     "iopub.execute_input": "2021-01-15T18:48:09.714533Z",
     "iopub.status.busy": "2021-01-15T18:48:09.714126Z",
     "iopub.status.idle": "2021-01-15T18:48:09.857775Z",
     "shell.execute_reply": "2021-01-15T18:48:09.857079Z",
     "shell.execute_reply.started": "2021-01-15T18:48:09.714492Z"
    }
   },
   "outputs": [],
   "source": [
    "#read in excel file with list of sources to use\n",
    "#update path\n",
    "sources = pd.read_excel(\"PATH/TO/valid_sources.xlsx\")\n",
    "sources[\"GEO_PROV\"]=sources[\"GEO_PROV\"].str.lower()\n"
   ]
  },
  {
   "cell_type": "code",
   "execution_count": 7,
   "metadata": {
    "execution": {
     "iopub.execute_input": "2021-01-15T18:48:43.985578Z",
     "iopub.status.busy": "2021-01-15T18:48:43.985063Z",
     "iopub.status.idle": "2021-01-15T19:22:39.245880Z",
     "shell.execute_reply": "2021-01-15T19:22:39.245079Z",
     "shell.execute_reply.started": "2021-01-15T18:48:43.985529Z"
    }
   },
   "outputs": [
    {
     "name": "stdout",
     "output_type": "stream",
     "text": [
      "city_of_airdrie\n"
     ]
    },
    {
     "data": {
      "text/html": [
       "<a href=\"/_/pipeline/#/experiments/details/ee78f7ae-a154-48ab-bd32-13db97c0d796\" target=\"_blank\" >Experiment details</a>."
      ],
      "text/plain": [
       "<IPython.core.display.HTML object>"
      ]
     },
     "metadata": {},
     "output_type": "display_data"
    },
    {
     "data": {
      "text/html": [
       "<a href=\"/_/pipeline/#/runs/details/9a0a7755-9162-4f7e-9f02-4942bd8649cb\" target=\"_blank\" >Run details</a>."
      ],
      "text/plain": [
       "<IPython.core.display.HTML object>"
      ]
     },
     "metadata": {},
     "output_type": "display_data"
    },
    {
     "name": "stdout",
     "output_type": "stream",
     "text": [
      "city_of_banff\n"
     ]
    },
    {
     "data": {
      "text/html": [
       "<a href=\"/_/pipeline/#/experiments/details/6d88e3e2-361e-4144-b07a-25cb21533aa6\" target=\"_blank\" >Experiment details</a>."
      ],
      "text/plain": [
       "<IPython.core.display.HTML object>"
      ]
     },
     "metadata": {},
     "output_type": "display_data"
    },
    {
     "data": {
      "text/html": [
       "<a href=\"/_/pipeline/#/runs/details/a3a84771-0129-485b-8ef1-84fca3077488\" target=\"_blank\" >Run details</a>."
      ],
      "text/plain": [
       "<IPython.core.display.HTML object>"
      ]
     },
     "metadata": {},
     "output_type": "display_data"
    },
    {
     "name": "stdout",
     "output_type": "stream",
     "text": [
      "calgary\n"
     ]
    },
    {
     "data": {
      "text/html": [
       "<a href=\"/_/pipeline/#/experiments/details/5953cd31-0dac-430c-99e5-394741acecd9\" target=\"_blank\" >Experiment details</a>."
      ],
      "text/plain": [
       "<IPython.core.display.HTML object>"
      ]
     },
     "metadata": {},
     "output_type": "display_data"
    },
    {
     "data": {
      "text/html": [
       "<a href=\"/_/pipeline/#/runs/details/4e29c836-1cd3-40fa-9c0a-fbe3f8da149b\" target=\"_blank\" >Run details</a>."
      ],
      "text/plain": [
       "<IPython.core.display.HTML object>"
      ]
     },
     "metadata": {},
     "output_type": "display_data"
    },
    {
     "name": "stdout",
     "output_type": "stream",
     "text": [
      "city_of_canmore\n"
     ]
    },
    {
     "data": {
      "text/html": [
       "<a href=\"/_/pipeline/#/experiments/details/e6fbd8df-6baf-4ba1-962a-cc0708fa1f67\" target=\"_blank\" >Experiment details</a>."
      ],
      "text/plain": [
       "<IPython.core.display.HTML object>"
      ]
     },
     "metadata": {},
     "output_type": "display_data"
    },
    {
     "data": {
      "text/html": [
       "<a href=\"/_/pipeline/#/runs/details/55dc7f1c-6d0e-495b-8037-49562396d75f\" target=\"_blank\" >Run details</a>."
      ],
      "text/plain": [
       "<IPython.core.display.HTML object>"
      ]
     },
     "metadata": {},
     "output_type": "display_data"
    },
    {
     "name": "stdout",
     "output_type": "stream",
     "text": [
      "city_of_chestermere\n"
     ]
    },
    {
     "data": {
      "text/html": [
       "<a href=\"/_/pipeline/#/experiments/details/62de0d11-604d-43b8-9095-808aaeb9302c\" target=\"_blank\" >Experiment details</a>."
      ],
      "text/plain": [
       "<IPython.core.display.HTML object>"
      ]
     },
     "metadata": {},
     "output_type": "display_data"
    },
    {
     "data": {
      "text/html": [
       "<a href=\"/_/pipeline/#/runs/details/363d78b4-28b8-4cd2-9fef-22311c9438c8\" target=\"_blank\" >Run details</a>."
      ],
      "text/plain": [
       "<IPython.core.display.HTML object>"
      ]
     },
     "metadata": {},
     "output_type": "display_data"
    },
    {
     "name": "stdout",
     "output_type": "stream",
     "text": [
      "city_of_cochrane\n"
     ]
    },
    {
     "data": {
      "text/html": [
       "<a href=\"/_/pipeline/#/experiments/details/f62fe15e-5fb7-4a05-9806-cbb8a28fb2a2\" target=\"_blank\" >Experiment details</a>."
      ],
      "text/plain": [
       "<IPython.core.display.HTML object>"
      ]
     },
     "metadata": {},
     "output_type": "display_data"
    },
    {
     "data": {
      "text/html": [
       "<a href=\"/_/pipeline/#/runs/details/45937243-7aa2-437a-81ec-d26c020c4f31\" target=\"_blank\" >Run details</a>."
      ],
      "text/plain": [
       "<IPython.core.display.HTML object>"
      ]
     },
     "metadata": {},
     "output_type": "display_data"
    },
    {
     "name": "stdout",
     "output_type": "stream",
     "text": [
      "city_of_edmonton\n"
     ]
    },
    {
     "data": {
      "text/html": [
       "<a href=\"/_/pipeline/#/experiments/details/9530fb59-583e-41f8-9428-50275781b460\" target=\"_blank\" >Experiment details</a>."
      ],
      "text/plain": [
       "<IPython.core.display.HTML object>"
      ]
     },
     "metadata": {},
     "output_type": "display_data"
    },
    {
     "data": {
      "text/html": [
       "<a href=\"/_/pipeline/#/runs/details/80addb3a-6974-4a50-aade-d1d2bbf3f279\" target=\"_blank\" >Run details</a>."
      ],
      "text/plain": [
       "<IPython.core.display.HTML object>"
      ]
     },
     "metadata": {},
     "output_type": "display_data"
    },
    {
     "name": "stdout",
     "output_type": "stream",
     "text": [
      "grande_prairie\n"
     ]
    },
    {
     "data": {
      "text/html": [
       "<a href=\"/_/pipeline/#/experiments/details/aa385fe7-1f67-4aec-a24b-e4f2ec8e4397\" target=\"_blank\" >Experiment details</a>."
      ],
      "text/plain": [
       "<IPython.core.display.HTML object>"
      ]
     },
     "metadata": {},
     "output_type": "display_data"
    },
    {
     "data": {
      "text/html": [
       "<a href=\"/_/pipeline/#/runs/details/19205649-0e0c-4358-8741-066012e3e3ba\" target=\"_blank\" >Run details</a>."
      ],
      "text/plain": [
       "<IPython.core.display.HTML object>"
      ]
     },
     "metadata": {},
     "output_type": "display_data"
    },
    {
     "name": "stdout",
     "output_type": "stream",
     "text": [
      "city_of_lethbridge\n"
     ]
    },
    {
     "data": {
      "text/html": [
       "<a href=\"/_/pipeline/#/experiments/details/ee3cb768-a9cf-4862-964f-7b0d6535d191\" target=\"_blank\" >Experiment details</a>."
      ],
      "text/plain": [
       "<IPython.core.display.HTML object>"
      ]
     },
     "metadata": {},
     "output_type": "display_data"
    },
    {
     "data": {
      "text/html": [
       "<a href=\"/_/pipeline/#/runs/details/35ce6fd5-781b-4b2d-abc5-3ce4fd29da9c\" target=\"_blank\" >Run details</a>."
      ],
      "text/plain": [
       "<IPython.core.display.HTML object>"
      ]
     },
     "metadata": {},
     "output_type": "display_data"
    },
    {
     "name": "stdout",
     "output_type": "stream",
     "text": [
      "parkland_county\n"
     ]
    },
    {
     "data": {
      "text/html": [
       "<a href=\"/_/pipeline/#/experiments/details/31b56dd7-2cf6-4029-8b56-abd05961379c\" target=\"_blank\" >Experiment details</a>."
      ],
      "text/plain": [
       "<IPython.core.display.HTML object>"
      ]
     },
     "metadata": {},
     "output_type": "display_data"
    },
    {
     "data": {
      "text/html": [
       "<a href=\"/_/pipeline/#/runs/details/ffb0d08d-3c9f-4476-a304-d635d7b87bd8\" target=\"_blank\" >Run details</a>."
      ],
      "text/plain": [
       "<IPython.core.display.HTML object>"
      ]
     },
     "metadata": {},
     "output_type": "display_data"
    },
    {
     "name": "stdout",
     "output_type": "stream",
     "text": [
      "city_of_red_deer\n"
     ]
    },
    {
     "data": {
      "text/html": [
       "<a href=\"/_/pipeline/#/experiments/details/5d2c73b4-108c-4018-8f91-4c2bf5e0746c\" target=\"_blank\" >Experiment details</a>."
      ],
      "text/plain": [
       "<IPython.core.display.HTML object>"
      ]
     },
     "metadata": {},
     "output_type": "display_data"
    },
    {
     "data": {
      "text/html": [
       "<a href=\"/_/pipeline/#/runs/details/27a77f53-24c9-4532-9446-09a9e8f7f5e4\" target=\"_blank\" >Run details</a>."
      ],
      "text/plain": [
       "<IPython.core.display.HTML object>"
      ]
     },
     "metadata": {},
     "output_type": "display_data"
    },
    {
     "name": "stdout",
     "output_type": "stream",
     "text": [
      "st_albert\n"
     ]
    },
    {
     "data": {
      "text/html": [
       "<a href=\"/_/pipeline/#/experiments/details/11846494-637f-4f03-bc81-ff53f64994a0\" target=\"_blank\" >Experiment details</a>."
      ],
      "text/plain": [
       "<IPython.core.display.HTML object>"
      ]
     },
     "metadata": {},
     "output_type": "display_data"
    },
    {
     "data": {
      "text/html": [
       "<a href=\"/_/pipeline/#/runs/details/e5f1f920-3c16-4515-b548-fbac18d0d24a\" target=\"_blank\" >Run details</a>."
      ],
      "text/plain": [
       "<IPython.core.display.HTML object>"
      ]
     },
     "metadata": {},
     "output_type": "display_data"
    },
    {
     "name": "stdout",
     "output_type": "stream",
     "text": [
      "strathcona-county\n"
     ]
    },
    {
     "data": {
      "text/html": [
       "<a href=\"/_/pipeline/#/experiments/details/799b866c-2f44-4bc8-9d38-9223e8f49808\" target=\"_blank\" >Experiment details</a>."
      ],
      "text/plain": [
       "<IPython.core.display.HTML object>"
      ]
     },
     "metadata": {},
     "output_type": "display_data"
    },
    {
     "data": {
      "text/html": [
       "<a href=\"/_/pipeline/#/runs/details/d12aaee6-2e35-447b-a1f9-1d63a5e1a31d\" target=\"_blank\" >Run details</a>."
      ],
      "text/plain": [
       "<IPython.core.display.HTML object>"
      ]
     },
     "metadata": {},
     "output_type": "display_data"
    },
    {
     "name": "stdout",
     "output_type": "stream",
     "text": [
      "province\n"
     ]
    },
    {
     "data": {
      "text/html": [
       "<a href=\"/_/pipeline/#/experiments/details/00e6b1ae-ef2b-4424-9538-b75c7f9d97dd\" target=\"_blank\" >Experiment details</a>."
      ],
      "text/plain": [
       "<IPython.core.display.HTML object>"
      ]
     },
     "metadata": {},
     "output_type": "display_data"
    },
    {
     "data": {
      "text/html": [
       "<a href=\"/_/pipeline/#/runs/details/ecef6d5b-37d9-4fcd-9d89-c3afbab74394\" target=\"_blank\" >Run details</a>."
      ],
      "text/plain": [
       "<IPython.core.display.HTML object>"
      ]
     },
     "metadata": {},
     "output_type": "display_data"
    },
    {
     "name": "stdout",
     "output_type": "stream",
     "text": [
      "city_of_abbotsford\n"
     ]
    },
    {
     "data": {
      "text/html": [
       "<a href=\"/_/pipeline/#/experiments/details/7480d2b5-5224-4535-ad39-356a8dffa05f\" target=\"_blank\" >Experiment details</a>."
      ],
      "text/plain": [
       "<IPython.core.display.HTML object>"
      ]
     },
     "metadata": {},
     "output_type": "display_data"
    },
    {
     "data": {
      "text/html": [
       "<a href=\"/_/pipeline/#/runs/details/d08d9d63-a169-468f-8665-114742ec0a19\" target=\"_blank\" >Run details</a>."
      ],
      "text/plain": [
       "<IPython.core.display.HTML object>"
      ]
     },
     "metadata": {},
     "output_type": "display_data"
    },
    {
     "name": "stdout",
     "output_type": "stream",
     "text": [
      "city_of_burnaby\n"
     ]
    },
    {
     "data": {
      "text/html": [
       "<a href=\"/_/pipeline/#/experiments/details/32026407-4d84-4823-807f-b8a4d95b4fad\" target=\"_blank\" >Experiment details</a>."
      ],
      "text/plain": [
       "<IPython.core.display.HTML object>"
      ]
     },
     "metadata": {},
     "output_type": "display_data"
    },
    {
     "data": {
      "text/html": [
       "<a href=\"/_/pipeline/#/runs/details/d318c914-4ebf-4d2c-bf52-41cc59796971\" target=\"_blank\" >Run details</a>."
      ],
      "text/plain": [
       "<IPython.core.display.HTML object>"
      ]
     },
     "metadata": {},
     "output_type": "display_data"
    },
    {
     "name": "stdout",
     "output_type": "stream",
     "text": [
      "columbia-shuswap\n"
     ]
    },
    {
     "data": {
      "text/html": [
       "<a href=\"/_/pipeline/#/experiments/details/57bacf1a-935e-484c-8dac-16c6a82fbc15\" target=\"_blank\" >Experiment details</a>."
      ],
      "text/plain": [
       "<IPython.core.display.HTML object>"
      ]
     },
     "metadata": {},
     "output_type": "display_data"
    },
    {
     "data": {
      "text/html": [
       "<a href=\"/_/pipeline/#/runs/details/232c10b0-513a-4e09-b80d-951a2c0dd5e4\" target=\"_blank\" >Run details</a>."
      ],
      "text/plain": [
       "<IPython.core.display.HTML object>"
      ]
     },
     "metadata": {},
     "output_type": "display_data"
    },
    {
     "name": "stdout",
     "output_type": "stream",
     "text": [
      "city_of_coquitlam\n"
     ]
    },
    {
     "data": {
      "text/html": [
       "<a href=\"/_/pipeline/#/experiments/details/5b6122fc-aef5-4bd9-aa09-bf71cfd4ffa8\" target=\"_blank\" >Experiment details</a>."
      ],
      "text/plain": [
       "<IPython.core.display.HTML object>"
      ]
     },
     "metadata": {},
     "output_type": "display_data"
    },
    {
     "data": {
      "text/html": [
       "<a href=\"/_/pipeline/#/runs/details/d20450fd-17d9-4833-a419-dc4cf052d73c\" target=\"_blank\" >Run details</a>."
      ],
      "text/plain": [
       "<IPython.core.display.HTML object>"
      ]
     },
     "metadata": {},
     "output_type": "display_data"
    },
    {
     "name": "stdout",
     "output_type": "stream",
     "text": [
      "city_of_courtenay\n"
     ]
    },
    {
     "data": {
      "text/html": [
       "<a href=\"/_/pipeline/#/experiments/details/7f88a1c0-9b41-4530-8a3c-e5bce3c0e584\" target=\"_blank\" >Experiment details</a>."
      ],
      "text/plain": [
       "<IPython.core.display.HTML object>"
      ]
     },
     "metadata": {},
     "output_type": "display_data"
    },
    {
     "data": {
      "text/html": [
       "<a href=\"/_/pipeline/#/runs/details/9afc1560-4026-4a87-b23e-66e1fbd3da78\" target=\"_blank\" >Run details</a>."
      ],
      "text/plain": [
       "<IPython.core.display.HTML object>"
      ]
     },
     "metadata": {},
     "output_type": "display_data"
    },
    {
     "name": "stdout",
     "output_type": "stream",
     "text": [
      "city_of_kamloops\n"
     ]
    },
    {
     "data": {
      "text/html": [
       "<a href=\"/_/pipeline/#/experiments/details/92087d17-d64b-4d7d-8f01-83b7cf9cd644\" target=\"_blank\" >Experiment details</a>."
      ],
      "text/plain": [
       "<IPython.core.display.HTML object>"
      ]
     },
     "metadata": {},
     "output_type": "display_data"
    },
    {
     "data": {
      "text/html": [
       "<a href=\"/_/pipeline/#/runs/details/80036443-f44a-4f84-ace2-40d4538509a0\" target=\"_blank\" >Run details</a>."
      ],
      "text/plain": [
       "<IPython.core.display.HTML object>"
      ]
     },
     "metadata": {},
     "output_type": "display_data"
    },
    {
     "name": "stdout",
     "output_type": "stream",
     "text": [
      "city_of_kelowna\n"
     ]
    },
    {
     "data": {
      "text/html": [
       "<a href=\"/_/pipeline/#/experiments/details/e12e735f-6cb3-4561-bc3f-2be1f79f8d73\" target=\"_blank\" >Experiment details</a>."
      ],
      "text/plain": [
       "<IPython.core.display.HTML object>"
      ]
     },
     "metadata": {},
     "output_type": "display_data"
    },
    {
     "data": {
      "text/html": [
       "<a href=\"/_/pipeline/#/runs/details/5ef5e1cf-1c4a-47d7-ac07-f2753720b880\" target=\"_blank\" >Run details</a>."
      ],
      "text/plain": [
       "<IPython.core.display.HTML object>"
      ]
     },
     "metadata": {},
     "output_type": "display_data"
    },
    {
     "name": "stdout",
     "output_type": "stream",
     "text": [
      "langley\n"
     ]
    },
    {
     "data": {
      "text/html": [
       "<a href=\"/_/pipeline/#/experiments/details/178d6a53-bd37-44fd-9dcd-e2f7092eb660\" target=\"_blank\" >Experiment details</a>."
      ],
      "text/plain": [
       "<IPython.core.display.HTML object>"
      ]
     },
     "metadata": {},
     "output_type": "display_data"
    },
    {
     "data": {
      "text/html": [
       "<a href=\"/_/pipeline/#/runs/details/d360baec-6d9e-45d7-8d71-f16edd5df0f9\" target=\"_blank\" >Run details</a>."
      ],
      "text/plain": [
       "<IPython.core.display.HTML object>"
      ]
     },
     "metadata": {},
     "output_type": "display_data"
    },
    {
     "name": "stdout",
     "output_type": "stream",
     "text": [
      "maple_ridge\n"
     ]
    },
    {
     "data": {
      "text/html": [
       "<a href=\"/_/pipeline/#/experiments/details/1f80b8d9-135d-4a21-ba66-034913697860\" target=\"_blank\" >Experiment details</a>."
      ],
      "text/plain": [
       "<IPython.core.display.HTML object>"
      ]
     },
     "metadata": {},
     "output_type": "display_data"
    },
    {
     "data": {
      "text/html": [
       "<a href=\"/_/pipeline/#/runs/details/925d074c-269f-490d-b473-5460d8b69b4b\" target=\"_blank\" >Run details</a>."
      ],
      "text/plain": [
       "<IPython.core.display.HTML object>"
      ]
     },
     "metadata": {},
     "output_type": "display_data"
    },
    {
     "name": "stdout",
     "output_type": "stream",
     "text": [
      "nanaimo\n"
     ]
    },
    {
     "data": {
      "text/html": [
       "<a href=\"/_/pipeline/#/experiments/details/afe08248-3222-4172-91f1-a06f7abffc37\" target=\"_blank\" >Experiment details</a>."
      ],
      "text/plain": [
       "<IPython.core.display.HTML object>"
      ]
     },
     "metadata": {},
     "output_type": "display_data"
    },
    {
     "data": {
      "text/html": [
       "<a href=\"/_/pipeline/#/runs/details/ef0d4b4d-d112-443f-a3fd-498dc0b0792d\" target=\"_blank\" >Run details</a>."
      ],
      "text/plain": [
       "<IPython.core.display.HTML object>"
      ]
     },
     "metadata": {},
     "output_type": "display_data"
    },
    {
     "name": "stdout",
     "output_type": "stream",
     "text": [
      "city_of_new_westminster\n"
     ]
    },
    {
     "data": {
      "text/html": [
       "<a href=\"/_/pipeline/#/experiments/details/e220f75a-2f7e-4e63-921c-cfafd6cc1502\" target=\"_blank\" >Experiment details</a>."
      ],
      "text/plain": [
       "<IPython.core.display.HTML object>"
      ]
     },
     "metadata": {},
     "output_type": "display_data"
    },
    {
     "data": {
      "text/html": [
       "<a href=\"/_/pipeline/#/runs/details/c76e6246-ffb2-4e3f-8839-4eeb95897a74\" target=\"_blank\" >Run details</a>."
      ],
      "text/plain": [
       "<IPython.core.display.HTML object>"
      ]
     },
     "metadata": {},
     "output_type": "display_data"
    },
    {
     "name": "stdout",
     "output_type": "stream",
     "text": [
      "north_cowichan\n"
     ]
    },
    {
     "data": {
      "text/html": [
       "<a href=\"/_/pipeline/#/experiments/details/d3d0fa84-0afe-4906-a48a-fbaf64107a51\" target=\"_blank\" >Experiment details</a>."
      ],
      "text/plain": [
       "<IPython.core.display.HTML object>"
      ]
     },
     "metadata": {},
     "output_type": "display_data"
    },
    {
     "data": {
      "text/html": [
       "<a href=\"/_/pipeline/#/runs/details/ae4a4545-9957-4711-a39c-b450a9e59860\" target=\"_blank\" >Run details</a>."
      ],
      "text/plain": [
       "<IPython.core.display.HTML object>"
      ]
     },
     "metadata": {},
     "output_type": "display_data"
    },
    {
     "name": "stdout",
     "output_type": "stream",
     "text": [
      "city_of_penticton\n"
     ]
    },
    {
     "data": {
      "text/html": [
       "<a href=\"/_/pipeline/#/experiments/details/257102f9-d248-40ef-8f1c-e5cd854a882b\" target=\"_blank\" >Experiment details</a>."
      ],
      "text/plain": [
       "<IPython.core.display.HTML object>"
      ]
     },
     "metadata": {},
     "output_type": "display_data"
    },
    {
     "data": {
      "text/html": [
       "<a href=\"/_/pipeline/#/runs/details/fbb45de6-50a4-4d3a-9c74-273e67860684\" target=\"_blank\" >Run details</a>."
      ],
      "text/plain": [
       "<IPython.core.display.HTML object>"
      ]
     },
     "metadata": {},
     "output_type": "display_data"
    },
    {
     "name": "stdout",
     "output_type": "stream",
     "text": [
      "port_moody\n"
     ]
    },
    {
     "data": {
      "text/html": [
       "<a href=\"/_/pipeline/#/experiments/details/f3217845-9a82-40f2-83ac-f4913ff6e89f\" target=\"_blank\" >Experiment details</a>."
      ],
      "text/plain": [
       "<IPython.core.display.HTML object>"
      ]
     },
     "metadata": {},
     "output_type": "display_data"
    },
    {
     "data": {
      "text/html": [
       "<a href=\"/_/pipeline/#/runs/details/f5ac726b-0643-47bc-8749-a805c43fc63e\" target=\"_blank\" >Run details</a>."
      ],
      "text/plain": [
       "<IPython.core.display.HTML object>"
      ]
     },
     "metadata": {},
     "output_type": "display_data"
    },
    {
     "name": "stdout",
     "output_type": "stream",
     "text": [
      "prince_george\n"
     ]
    },
    {
     "data": {
      "text/html": [
       "<a href=\"/_/pipeline/#/experiments/details/37045ee1-d9c5-41dc-ae4f-39e653d51936\" target=\"_blank\" >Experiment details</a>."
      ],
      "text/plain": [
       "<IPython.core.display.HTML object>"
      ]
     },
     "metadata": {},
     "output_type": "display_data"
    },
    {
     "data": {
      "text/html": [
       "<a href=\"/_/pipeline/#/runs/details/98bb5c7b-dbd5-48da-92b5-a3ff178f6fab\" target=\"_blank\" >Run details</a>."
      ],
      "text/plain": [
       "<IPython.core.display.HTML object>"
      ]
     },
     "metadata": {},
     "output_type": "display_data"
    },
    {
     "name": "stdout",
     "output_type": "stream",
     "text": [
      "central-okanagan-regional-district\n"
     ]
    },
    {
     "data": {
      "text/html": [
       "<a href=\"/_/pipeline/#/experiments/details/1276eea2-76a5-4e6b-b8f0-51ff318231ac\" target=\"_blank\" >Experiment details</a>."
      ],
      "text/plain": [
       "<IPython.core.display.HTML object>"
      ]
     },
     "metadata": {},
     "output_type": "display_data"
    },
    {
     "data": {
      "text/html": [
       "<a href=\"/_/pipeline/#/runs/details/641abc9d-31b5-41b6-b6fc-e144d28185ac\" target=\"_blank\" >Run details</a>."
      ],
      "text/plain": [
       "<IPython.core.display.HTML object>"
      ]
     },
     "metadata": {},
     "output_type": "display_data"
    },
    {
     "name": "stdout",
     "output_type": "stream",
     "text": [
      "city_of_saanich\n"
     ]
    },
    {
     "data": {
      "text/html": [
       "<a href=\"/_/pipeline/#/experiments/details/c2d8f836-c120-4954-bcb7-354f693caf1d\" target=\"_blank\" >Experiment details</a>."
      ],
      "text/plain": [
       "<IPython.core.display.HTML object>"
      ]
     },
     "metadata": {},
     "output_type": "display_data"
    },
    {
     "data": {
      "text/html": [
       "<a href=\"/_/pipeline/#/runs/details/4008637c-1ce2-4878-83d2-9900c068d61e\" target=\"_blank\" >Run details</a>."
      ],
      "text/plain": [
       "<IPython.core.display.HTML object>"
      ]
     },
     "metadata": {},
     "output_type": "display_data"
    },
    {
     "name": "stdout",
     "output_type": "stream",
     "text": [
      "city_of_squamish\n"
     ]
    },
    {
     "data": {
      "text/html": [
       "<a href=\"/_/pipeline/#/experiments/details/52c7d90e-b53b-4082-a7b9-e861f0fd9aef\" target=\"_blank\" >Experiment details</a>."
      ],
      "text/plain": [
       "<IPython.core.display.HTML object>"
      ]
     },
     "metadata": {},
     "output_type": "display_data"
    },
    {
     "data": {
      "text/html": [
       "<a href=\"/_/pipeline/#/runs/details/12180652-a32b-41a1-995e-e35d4718fa68\" target=\"_blank\" >Run details</a>."
      ],
      "text/plain": [
       "<IPython.core.display.HTML object>"
      ]
     },
     "metadata": {},
     "output_type": "display_data"
    },
    {
     "name": "stdout",
     "output_type": "stream",
     "text": [
      "sunshine_coast\n"
     ]
    },
    {
     "data": {
      "text/html": [
       "<a href=\"/_/pipeline/#/experiments/details/ace5340c-3f5f-462b-b736-f56b12038230\" target=\"_blank\" >Experiment details</a>."
      ],
      "text/plain": [
       "<IPython.core.display.HTML object>"
      ]
     },
     "metadata": {},
     "output_type": "display_data"
    },
    {
     "data": {
      "text/html": [
       "<a href=\"/_/pipeline/#/runs/details/611552c5-9c71-4d4a-a5d8-37ef62a4c82d\" target=\"_blank\" >Run details</a>."
      ],
      "text/plain": [
       "<IPython.core.display.HTML object>"
      ]
     },
     "metadata": {},
     "output_type": "display_data"
    },
    {
     "name": "stdout",
     "output_type": "stream",
     "text": [
      "surrey\n"
     ]
    },
    {
     "data": {
      "text/html": [
       "<a href=\"/_/pipeline/#/experiments/details/90db4bac-eafd-4f31-bd1f-4f1f2dd77bc7\" target=\"_blank\" >Experiment details</a>."
      ],
      "text/plain": [
       "<IPython.core.display.HTML object>"
      ]
     },
     "metadata": {},
     "output_type": "display_data"
    },
    {
     "data": {
      "text/html": [
       "<a href=\"/_/pipeline/#/runs/details/85bf4587-a13f-46d0-ba77-22f409130bf4\" target=\"_blank\" >Run details</a>."
      ],
      "text/plain": [
       "<IPython.core.display.HTML object>"
      ]
     },
     "metadata": {},
     "output_type": "display_data"
    },
    {
     "name": "stdout",
     "output_type": "stream",
     "text": [
      "vancouver\n"
     ]
    },
    {
     "data": {
      "text/html": [
       "<a href=\"/_/pipeline/#/experiments/details/85c972e3-a673-44e8-b679-e0620eae6fcf\" target=\"_blank\" >Experiment details</a>."
      ],
      "text/plain": [
       "<IPython.core.display.HTML object>"
      ]
     },
     "metadata": {},
     "output_type": "display_data"
    },
    {
     "data": {
      "text/html": [
       "<a href=\"/_/pipeline/#/runs/details/02128a38-78ab-4c97-a345-716df06aaf0b\" target=\"_blank\" >Run details</a>."
      ],
      "text/plain": [
       "<IPython.core.display.HTML object>"
      ]
     },
     "metadata": {},
     "output_type": "display_data"
    },
    {
     "name": "stdout",
     "output_type": "stream",
     "text": [
      "vernon\n"
     ]
    },
    {
     "data": {
      "text/html": [
       "<a href=\"/_/pipeline/#/experiments/details/c8dd9f6d-107e-4bee-bb3e-74b238b4041f\" target=\"_blank\" >Experiment details</a>."
      ],
      "text/plain": [
       "<IPython.core.display.HTML object>"
      ]
     },
     "metadata": {},
     "output_type": "display_data"
    },
    {
     "data": {
      "text/html": [
       "<a href=\"/_/pipeline/#/runs/details/e919d8d9-c35d-4112-b432-6876adc69297\" target=\"_blank\" >Run details</a>."
      ],
      "text/plain": [
       "<IPython.core.display.HTML object>"
      ]
     },
     "metadata": {},
     "output_type": "display_data"
    },
    {
     "name": "stdout",
     "output_type": "stream",
     "text": [
      "victoria\n"
     ]
    },
    {
     "data": {
      "text/html": [
       "<a href=\"/_/pipeline/#/experiments/details/a30707f3-ac85-43c7-9ea2-e6ddd7fbe320\" target=\"_blank\" >Experiment details</a>."
      ],
      "text/plain": [
       "<IPython.core.display.HTML object>"
      ]
     },
     "metadata": {},
     "output_type": "display_data"
    },
    {
     "data": {
      "text/html": [
       "<a href=\"/_/pipeline/#/runs/details/14d87bd8-521e-4a12-8c4d-293ad70af9a0\" target=\"_blank\" >Run details</a>."
      ],
      "text/plain": [
       "<IPython.core.display.HTML object>"
      ]
     },
     "metadata": {},
     "output_type": "display_data"
    },
    {
     "name": "stdout",
     "output_type": "stream",
     "text": [
      "west_kelowna\n"
     ]
    },
    {
     "data": {
      "text/html": [
       "<a href=\"/_/pipeline/#/experiments/details/988b2693-a65b-49b0-9bd6-0ffaf20456d6\" target=\"_blank\" >Experiment details</a>."
      ],
      "text/plain": [
       "<IPython.core.display.HTML object>"
      ]
     },
     "metadata": {},
     "output_type": "display_data"
    },
    {
     "data": {
      "text/html": [
       "<a href=\"/_/pipeline/#/runs/details/60fe5113-5162-4869-a09a-2069d19496ab\" target=\"_blank\" >Run details</a>."
      ],
      "text/plain": [
       "<IPython.core.display.HTML object>"
      ]
     },
     "metadata": {},
     "output_type": "display_data"
    },
    {
     "name": "stdout",
     "output_type": "stream",
     "text": [
      "white_rock\n"
     ]
    },
    {
     "data": {
      "text/html": [
       "<a href=\"/_/pipeline/#/experiments/details/bb220307-5e58-4a35-805d-b2df68e4efaf\" target=\"_blank\" >Experiment details</a>."
      ],
      "text/plain": [
       "<IPython.core.display.HTML object>"
      ]
     },
     "metadata": {},
     "output_type": "display_data"
    },
    {
     "data": {
      "text/html": [
       "<a href=\"/_/pipeline/#/runs/details/2946174e-3805-426c-bf6d-aa044fac31a0\" target=\"_blank\" >Run details</a>."
      ],
      "text/plain": [
       "<IPython.core.display.HTML object>"
      ]
     },
     "metadata": {},
     "output_type": "display_data"
    },
    {
     "name": "stdout",
     "output_type": "stream",
     "text": [
      "brandon\n"
     ]
    },
    {
     "data": {
      "text/html": [
       "<a href=\"/_/pipeline/#/experiments/details/e2018179-8761-4ea8-af83-f80d302011a7\" target=\"_blank\" >Experiment details</a>."
      ],
      "text/plain": [
       "<IPython.core.display.HTML object>"
      ]
     },
     "metadata": {},
     "output_type": "display_data"
    },
    {
     "data": {
      "text/html": [
       "<a href=\"/_/pipeline/#/runs/details/8bf0d1bb-fb91-4959-9157-94f0e0f62249\" target=\"_blank\" >Run details</a>."
      ],
      "text/plain": [
       "<IPython.core.display.HTML object>"
      ]
     },
     "metadata": {},
     "output_type": "display_data"
    },
    {
     "name": "stdout",
     "output_type": "stream",
     "text": [
      "city_of_winnipeg\n"
     ]
    },
    {
     "data": {
      "text/html": [
       "<a href=\"/_/pipeline/#/experiments/details/92a42024-911e-423b-a3d3-3aef972564c2\" target=\"_blank\" >Experiment details</a>."
      ],
      "text/plain": [
       "<IPython.core.display.HTML object>"
      ]
     },
     "metadata": {},
     "output_type": "display_data"
    },
    {
     "data": {
      "text/html": [
       "<a href=\"/_/pipeline/#/runs/details/1cf0edb0-1caa-42dc-8272-733a375f7f66\" target=\"_blank\" >Run details</a>."
      ],
      "text/plain": [
       "<IPython.core.display.HTML object>"
      ]
     },
     "metadata": {},
     "output_type": "display_data"
    },
    {
     "name": "stdout",
     "output_type": "stream",
     "text": [
      "city_of_fredericton\n"
     ]
    },
    {
     "data": {
      "text/html": [
       "<a href=\"/_/pipeline/#/experiments/details/46b60620-2457-4a13-aff3-13bbc80a94a7\" target=\"_blank\" >Experiment details</a>."
      ],
      "text/plain": [
       "<IPython.core.display.HTML object>"
      ]
     },
     "metadata": {},
     "output_type": "display_data"
    },
    {
     "data": {
      "text/html": [
       "<a href=\"/_/pipeline/#/runs/details/f5dfdb33-9461-42a8-924f-29009654ec22\" target=\"_blank\" >Run details</a>."
      ],
      "text/plain": [
       "<IPython.core.display.HTML object>"
      ]
     },
     "metadata": {},
     "output_type": "display_data"
    },
    {
     "name": "stdout",
     "output_type": "stream",
     "text": [
      "city_of_moncton\n"
     ]
    },
    {
     "data": {
      "text/html": [
       "<a href=\"/_/pipeline/#/experiments/details/5d781d5d-3e2c-42af-bc7b-a5a18e739bed\" target=\"_blank\" >Experiment details</a>."
      ],
      "text/plain": [
       "<IPython.core.display.HTML object>"
      ]
     },
     "metadata": {},
     "output_type": "display_data"
    },
    {
     "data": {
      "text/html": [
       "<a href=\"/_/pipeline/#/runs/details/ce4da224-9aa6-4943-bcd5-8d296066e7f4\" target=\"_blank\" >Run details</a>."
      ],
      "text/plain": [
       "<IPython.core.display.HTML object>"
      ]
     },
     "metadata": {},
     "output_type": "display_data"
    },
    {
     "name": "stdout",
     "output_type": "stream",
     "text": [
      "province\n"
     ]
    },
    {
     "data": {
      "text/html": [
       "<a href=\"/_/pipeline/#/experiments/details/acc01618-8a6c-4a71-86ec-616d4e1ec2f0\" target=\"_blank\" >Experiment details</a>."
      ],
      "text/plain": [
       "<IPython.core.display.HTML object>"
      ]
     },
     "metadata": {},
     "output_type": "display_data"
    },
    {
     "data": {
      "text/html": [
       "<a href=\"/_/pipeline/#/runs/details/b258bd5e-3664-420e-b22a-835722003875\" target=\"_blank\" >Run details</a>."
      ],
      "text/plain": [
       "<IPython.core.display.HTML object>"
      ]
     },
     "metadata": {},
     "output_type": "display_data"
    },
    {
     "name": "stdout",
     "output_type": "stream",
     "text": [
      "city_of_st_john\n"
     ]
    },
    {
     "data": {
      "text/html": [
       "<a href=\"/_/pipeline/#/experiments/details/817762a1-7e27-4b92-ba69-3db9b2ae7a8a\" target=\"_blank\" >Experiment details</a>."
      ],
      "text/plain": [
       "<IPython.core.display.HTML object>"
      ]
     },
     "metadata": {},
     "output_type": "display_data"
    },
    {
     "data": {
      "text/html": [
       "<a href=\"/_/pipeline/#/runs/details/248808b1-9562-4f86-a4a6-a96ba969bc65\" target=\"_blank\" >Run details</a>."
      ],
      "text/plain": [
       "<IPython.core.display.HTML object>"
      ]
     },
     "metadata": {},
     "output_type": "display_data"
    },
    {
     "name": "stdout",
     "output_type": "stream",
     "text": [
      "happy-valley-goose-bay\n"
     ]
    },
    {
     "data": {
      "text/html": [
       "<a href=\"/_/pipeline/#/experiments/details/e7ba96c6-c472-4ea2-9748-1ed1b7ac7acc\" target=\"_blank\" >Experiment details</a>."
      ],
      "text/plain": [
       "<IPython.core.display.HTML object>"
      ]
     },
     "metadata": {},
     "output_type": "display_data"
    },
    {
     "data": {
      "text/html": [
       "<a href=\"/_/pipeline/#/runs/details/21c81e49-8f1e-46a1-87ba-fd66612bff0f\" target=\"_blank\" >Run details</a>."
      ],
      "text/plain": [
       "<IPython.core.display.HTML object>"
      ]
     },
     "metadata": {},
     "output_type": "display_data"
    },
    {
     "name": "stdout",
     "output_type": "stream",
     "text": [
      "cape_breton\n"
     ]
    },
    {
     "data": {
      "text/html": [
       "<a href=\"/_/pipeline/#/experiments/details/50b867df-fd51-463f-9681-5c0b768f5625\" target=\"_blank\" >Experiment details</a>."
      ],
      "text/plain": [
       "<IPython.core.display.HTML object>"
      ]
     },
     "metadata": {},
     "output_type": "display_data"
    },
    {
     "data": {
      "text/html": [
       "<a href=\"/_/pipeline/#/runs/details/0a0a267b-869d-42c9-b851-2c88ab97d462\" target=\"_blank\" >Run details</a>."
      ],
      "text/plain": [
       "<IPython.core.display.HTML object>"
      ]
     },
     "metadata": {},
     "output_type": "display_data"
    },
    {
     "name": "stdout",
     "output_type": "stream",
     "text": [
      "halifax\n"
     ]
    },
    {
     "data": {
      "text/html": [
       "<a href=\"/_/pipeline/#/experiments/details/58e77bd6-c8bf-42e0-9af5-cd42f088b825\" target=\"_blank\" >Experiment details</a>."
      ],
      "text/plain": [
       "<IPython.core.display.HTML object>"
      ]
     },
     "metadata": {},
     "output_type": "display_data"
    },
    {
     "data": {
      "text/html": [
       "<a href=\"/_/pipeline/#/runs/details/88ab4ba6-16a5-40fb-a842-37ca1b737832\" target=\"_blank\" >Run details</a>."
      ],
      "text/plain": [
       "<IPython.core.display.HTML object>"
      ]
     },
     "metadata": {},
     "output_type": "display_data"
    },
    {
     "name": "stdout",
     "output_type": "stream",
     "text": [
      "province\n"
     ]
    },
    {
     "data": {
      "text/html": [
       "<a href=\"/_/pipeline/#/experiments/details/f079b878-d081-4e16-a3fd-a0b6f3983f09\" target=\"_blank\" >Experiment details</a>."
      ],
      "text/plain": [
       "<IPython.core.display.HTML object>"
      ]
     },
     "metadata": {},
     "output_type": "display_data"
    },
    {
     "data": {
      "text/html": [
       "<a href=\"/_/pipeline/#/runs/details/2d1ae7f5-239c-43bd-8aa1-42711aeb83e8\" target=\"_blank\" >Run details</a>."
      ],
      "text/plain": [
       "<IPython.core.display.HTML object>"
      ]
     },
     "metadata": {},
     "output_type": "display_data"
    },
    {
     "name": "stdout",
     "output_type": "stream",
     "text": [
      "city_of_yellow_knife\n"
     ]
    },
    {
     "data": {
      "text/html": [
       "<a href=\"/_/pipeline/#/experiments/details/71e25879-773a-4624-8387-429b9d9441df\" target=\"_blank\" >Experiment details</a>."
      ],
      "text/plain": [
       "<IPython.core.display.HTML object>"
      ]
     },
     "metadata": {},
     "output_type": "display_data"
    },
    {
     "data": {
      "text/html": [
       "<a href=\"/_/pipeline/#/runs/details/538ef82b-da6a-4f23-bea1-740a0d876b9a\" target=\"_blank\" >Run details</a>."
      ],
      "text/plain": [
       "<IPython.core.display.HTML object>"
      ]
     },
     "metadata": {},
     "output_type": "display_data"
    },
    {
     "name": "stdout",
     "output_type": "stream",
     "text": [
      "city_of_ajax\n"
     ]
    },
    {
     "data": {
      "text/html": [
       "<a href=\"/_/pipeline/#/experiments/details/5bf9eb39-722c-445e-9018-7b16464f9504\" target=\"_blank\" >Experiment details</a>."
      ],
      "text/plain": [
       "<IPython.core.display.HTML object>"
      ]
     },
     "metadata": {},
     "output_type": "display_data"
    },
    {
     "data": {
      "text/html": [
       "<a href=\"/_/pipeline/#/runs/details/a9bf7ae4-802d-4900-beae-2719fecca905\" target=\"_blank\" >Run details</a>."
      ],
      "text/plain": [
       "<IPython.core.display.HTML object>"
      ]
     },
     "metadata": {},
     "output_type": "display_data"
    },
    {
     "name": "stdout",
     "output_type": "stream",
     "text": [
      "city_of_barrie\n"
     ]
    },
    {
     "data": {
      "text/html": [
       "<a href=\"/_/pipeline/#/experiments/details/376c2b59-1a17-4eff-b020-2e8968ccddf0\" target=\"_blank\" >Experiment details</a>."
      ],
      "text/plain": [
       "<IPython.core.display.HTML object>"
      ]
     },
     "metadata": {},
     "output_type": "display_data"
    },
    {
     "data": {
      "text/html": [
       "<a href=\"/_/pipeline/#/runs/details/1d935b18-d2ab-4fb8-9283-ad038a32c8b4\" target=\"_blank\" >Run details</a>."
      ],
      "text/plain": [
       "<IPython.core.display.HTML object>"
      ]
     },
     "metadata": {},
     "output_type": "display_data"
    },
    {
     "name": "stdout",
     "output_type": "stream",
     "text": [
      "city_of_brampton\n"
     ]
    },
    {
     "data": {
      "text/html": [
       "<a href=\"/_/pipeline/#/experiments/details/fd3b163b-a783-4a24-aebe-32213207a12b\" target=\"_blank\" >Experiment details</a>."
      ],
      "text/plain": [
       "<IPython.core.display.HTML object>"
      ]
     },
     "metadata": {},
     "output_type": "display_data"
    },
    {
     "data": {
      "text/html": [
       "<a href=\"/_/pipeline/#/runs/details/f764d3e6-333c-4e82-890d-97595c68a947\" target=\"_blank\" >Run details</a>."
      ],
      "text/plain": [
       "<IPython.core.display.HTML object>"
      ]
     },
     "metadata": {},
     "output_type": "display_data"
    },
    {
     "name": "stdout",
     "output_type": "stream",
     "text": [
      "brantford\n"
     ]
    },
    {
     "data": {
      "text/html": [
       "<a href=\"/_/pipeline/#/experiments/details/314ad70d-b162-4563-b9cc-874871068abf\" target=\"_blank\" >Experiment details</a>."
      ],
      "text/plain": [
       "<IPython.core.display.HTML object>"
      ]
     },
     "metadata": {},
     "output_type": "display_data"
    },
    {
     "data": {
      "text/html": [
       "<a href=\"/_/pipeline/#/runs/details/4f68955d-9bbf-4182-b080-077a65fdcfc0\" target=\"_blank\" >Run details</a>."
      ],
      "text/plain": [
       "<IPython.core.display.HTML object>"
      ]
     },
     "metadata": {},
     "output_type": "display_data"
    },
    {
     "name": "stdout",
     "output_type": "stream",
     "text": [
      "bruce\n"
     ]
    },
    {
     "data": {
      "text/html": [
       "<a href=\"/_/pipeline/#/experiments/details/c0ff7015-c9ec-4e34-bd63-486c0f6a54da\" target=\"_blank\" >Experiment details</a>."
      ],
      "text/plain": [
       "<IPython.core.display.HTML object>"
      ]
     },
     "metadata": {},
     "output_type": "display_data"
    },
    {
     "data": {
      "text/html": [
       "<a href=\"/_/pipeline/#/runs/details/3b6cc74c-a0ad-41a6-b89e-cdf8b8a10227\" target=\"_blank\" >Run details</a>."
      ],
      "text/plain": [
       "<IPython.core.display.HTML object>"
      ]
     },
     "metadata": {},
     "output_type": "display_data"
    },
    {
     "name": "stdout",
     "output_type": "stream",
     "text": [
      "city_of_burlington\n"
     ]
    },
    {
     "data": {
      "text/html": [
       "<a href=\"/_/pipeline/#/experiments/details/2f514d33-bef7-46ae-bab9-d0fe9b267d17\" target=\"_blank\" >Experiment details</a>."
      ],
      "text/plain": [
       "<IPython.core.display.HTML object>"
      ]
     },
     "metadata": {},
     "output_type": "display_data"
    },
    {
     "data": {
      "text/html": [
       "<a href=\"/_/pipeline/#/runs/details/8453336b-249b-4f12-b551-8e1e1eaac543\" target=\"_blank\" >Run details</a>."
      ],
      "text/plain": [
       "<IPython.core.display.HTML object>"
      ]
     },
     "metadata": {},
     "output_type": "display_data"
    },
    {
     "name": "stdout",
     "output_type": "stream",
     "text": [
      "city_of_cambridge\n"
     ]
    },
    {
     "data": {
      "text/html": [
       "<a href=\"/_/pipeline/#/experiments/details/9dacb87a-b101-40d6-b814-d4a788fbb3c0\" target=\"_blank\" >Experiment details</a>."
      ],
      "text/plain": [
       "<IPython.core.display.HTML object>"
      ]
     },
     "metadata": {},
     "output_type": "display_data"
    },
    {
     "data": {
      "text/html": [
       "<a href=\"/_/pipeline/#/runs/details/7f96bc9a-ee8e-4f84-b77f-683c826aaf0f\" target=\"_blank\" >Run details</a>."
      ],
      "text/plain": [
       "<IPython.core.display.HTML object>"
      ]
     },
     "metadata": {},
     "output_type": "display_data"
    },
    {
     "name": "stdout",
     "output_type": "stream",
     "text": [
      "cornwall\n"
     ]
    },
    {
     "data": {
      "text/html": [
       "<a href=\"/_/pipeline/#/experiments/details/b9f7b0ec-3d52-4647-a655-1ac17fb22dc6\" target=\"_blank\" >Experiment details</a>."
      ],
      "text/plain": [
       "<IPython.core.display.HTML object>"
      ]
     },
     "metadata": {},
     "output_type": "display_data"
    },
    {
     "data": {
      "text/html": [
       "<a href=\"/_/pipeline/#/runs/details/416ac142-b94d-4514-852f-45897a82c5f8\" target=\"_blank\" >Run details</a>."
      ],
      "text/plain": [
       "<IPython.core.display.HTML object>"
      ]
     },
     "metadata": {},
     "output_type": "display_data"
    },
    {
     "name": "stdout",
     "output_type": "stream",
     "text": [
      "dufferin\n"
     ]
    },
    {
     "data": {
      "text/html": [
       "<a href=\"/_/pipeline/#/experiments/details/3fe7b220-99ff-4a85-89a0-7719202b81af\" target=\"_blank\" >Experiment details</a>."
      ],
      "text/plain": [
       "<IPython.core.display.HTML object>"
      ]
     },
     "metadata": {},
     "output_type": "display_data"
    },
    {
     "data": {
      "text/html": [
       "<a href=\"/_/pipeline/#/runs/details/f3b944e8-5fbf-4e9a-8f24-04dbe6253cd1\" target=\"_blank\" >Run details</a>."
      ],
      "text/plain": [
       "<IPython.core.display.HTML object>"
      ]
     },
     "metadata": {},
     "output_type": "display_data"
    },
    {
     "name": "stdout",
     "output_type": "stream",
     "text": [
      "greater_sudbury\n"
     ]
    },
    {
     "data": {
      "text/html": [
       "<a href=\"/_/pipeline/#/experiments/details/cea112b0-f872-4ae2-8410-380703912834\" target=\"_blank\" >Experiment details</a>."
      ],
      "text/plain": [
       "<IPython.core.display.HTML object>"
      ]
     },
     "metadata": {},
     "output_type": "display_data"
    },
    {
     "data": {
      "text/html": [
       "<a href=\"/_/pipeline/#/runs/details/2b773623-a7e1-4118-a07a-654f7b3beec2\" target=\"_blank\" >Run details</a>."
      ],
      "text/plain": [
       "<IPython.core.display.HTML object>"
      ]
     },
     "metadata": {},
     "output_type": "display_data"
    },
    {
     "name": "stdout",
     "output_type": "stream",
     "text": [
      "city_of_guelph\n"
     ]
    },
    {
     "data": {
      "text/html": [
       "<a href=\"/_/pipeline/#/experiments/details/ab0b0856-09f1-49a8-a4bc-cfc857701cd1\" target=\"_blank\" >Experiment details</a>."
      ],
      "text/plain": [
       "<IPython.core.display.HTML object>"
      ]
     },
     "metadata": {},
     "output_type": "display_data"
    },
    {
     "data": {
      "text/html": [
       "<a href=\"/_/pipeline/#/runs/details/af70fede-4304-41fa-8de3-e825098e8500\" target=\"_blank\" >Run details</a>."
      ],
      "text/plain": [
       "<IPython.core.display.HTML object>"
      ]
     },
     "metadata": {},
     "output_type": "display_data"
    },
    {
     "name": "stdout",
     "output_type": "stream",
     "text": [
      "haldimand\n"
     ]
    },
    {
     "data": {
      "text/html": [
       "<a href=\"/_/pipeline/#/experiments/details/51609175-1fe1-4ede-bfb7-9463da92ad14\" target=\"_blank\" >Experiment details</a>."
      ],
      "text/plain": [
       "<IPython.core.display.HTML object>"
      ]
     },
     "metadata": {},
     "output_type": "display_data"
    },
    {
     "data": {
      "text/html": [
       "<a href=\"/_/pipeline/#/runs/details/3c5bd6bf-9a59-4dab-83bd-b7cf9c1933f1\" target=\"_blank\" >Run details</a>."
      ],
      "text/plain": [
       "<IPython.core.display.HTML object>"
      ]
     },
     "metadata": {},
     "output_type": "display_data"
    },
    {
     "name": "stdout",
     "output_type": "stream",
     "text": [
      "city_of_hamilton\n"
     ]
    },
    {
     "data": {
      "text/html": [
       "<a href=\"/_/pipeline/#/experiments/details/867ebaa2-28b9-4262-8224-6cbfcaaa4c94\" target=\"_blank\" >Experiment details</a>."
      ],
      "text/plain": [
       "<IPython.core.display.HTML object>"
      ]
     },
     "metadata": {},
     "output_type": "display_data"
    },
    {
     "data": {
      "text/html": [
       "<a href=\"/_/pipeline/#/runs/details/6d0546c3-4198-48f1-a6c3-ce1a8a60a2dc\" target=\"_blank\" >Run details</a>."
      ],
      "text/plain": [
       "<IPython.core.display.HTML object>"
      ]
     },
     "metadata": {},
     "output_type": "display_data"
    },
    {
     "name": "stdout",
     "output_type": "stream",
     "text": [
      "hastings\n"
     ]
    },
    {
     "data": {
      "text/html": [
       "<a href=\"/_/pipeline/#/experiments/details/863c0c5c-c9ae-4c35-9ae1-c58ea0c828e7\" target=\"_blank\" >Experiment details</a>."
      ],
      "text/plain": [
       "<IPython.core.display.HTML object>"
      ]
     },
     "metadata": {},
     "output_type": "display_data"
    },
    {
     "data": {
      "text/html": [
       "<a href=\"/_/pipeline/#/runs/details/14f91a98-b46a-4e8f-b279-150c11396472\" target=\"_blank\" >Run details</a>."
      ],
      "text/plain": [
       "<IPython.core.display.HTML object>"
      ]
     },
     "metadata": {},
     "output_type": "display_data"
    },
    {
     "name": "stdout",
     "output_type": "stream",
     "text": [
      "huron\n"
     ]
    },
    {
     "data": {
      "text/html": [
       "<a href=\"/_/pipeline/#/experiments/details/88f15cf3-0427-4335-8f94-06b9b261b057\" target=\"_blank\" >Experiment details</a>."
      ],
      "text/plain": [
       "<IPython.core.display.HTML object>"
      ]
     },
     "metadata": {},
     "output_type": "display_data"
    },
    {
     "data": {
      "text/html": [
       "<a href=\"/_/pipeline/#/runs/details/9ef1593d-8ec3-4888-b3f2-750cb09039b3\" target=\"_blank\" >Run details</a>."
      ],
      "text/plain": [
       "<IPython.core.display.HTML object>"
      ]
     },
     "metadata": {},
     "output_type": "display_data"
    },
    {
     "name": "stdout",
     "output_type": "stream",
     "text": [
      "city_of_kingston\n"
     ]
    },
    {
     "data": {
      "text/html": [
       "<a href=\"/_/pipeline/#/experiments/details/9e26be7e-7cd7-472d-9548-ed365d0660f3\" target=\"_blank\" >Experiment details</a>."
      ],
      "text/plain": [
       "<IPython.core.display.HTML object>"
      ]
     },
     "metadata": {},
     "output_type": "display_data"
    },
    {
     "data": {
      "text/html": [
       "<a href=\"/_/pipeline/#/runs/details/53e57338-87ce-4c68-b8f5-2f2461ba35dc\" target=\"_blank\" >Run details</a>."
      ],
      "text/plain": [
       "<IPython.core.display.HTML object>"
      ]
     },
     "metadata": {},
     "output_type": "display_data"
    },
    {
     "name": "stdout",
     "output_type": "stream",
     "text": [
      "city_of_kitchener\n"
     ]
    },
    {
     "data": {
      "text/html": [
       "<a href=\"/_/pipeline/#/experiments/details/ba2356ce-daed-453b-9421-01baf2cccfb9\" target=\"_blank\" >Experiment details</a>."
      ],
      "text/plain": [
       "<IPython.core.display.HTML object>"
      ]
     },
     "metadata": {},
     "output_type": "display_data"
    },
    {
     "data": {
      "text/html": [
       "<a href=\"/_/pipeline/#/runs/details/ebda851d-f4ed-4714-8826-b48987d4d03c\" target=\"_blank\" >Run details</a>."
      ],
      "text/plain": [
       "<IPython.core.display.HTML object>"
      ]
     },
     "metadata": {},
     "output_type": "display_data"
    },
    {
     "name": "stdout",
     "output_type": "stream",
     "text": [
      "lambton\n"
     ]
    },
    {
     "data": {
      "text/html": [
       "<a href=\"/_/pipeline/#/experiments/details/b4243920-70ba-4a9a-b93c-88255e5523bc\" target=\"_blank\" >Experiment details</a>."
      ],
      "text/plain": [
       "<IPython.core.display.HTML object>"
      ]
     },
     "metadata": {},
     "output_type": "display_data"
    },
    {
     "data": {
      "text/html": [
       "<a href=\"/_/pipeline/#/runs/details/672eae2e-6fb9-4911-9246-e69410f29826\" target=\"_blank\" >Run details</a>."
      ],
      "text/plain": [
       "<IPython.core.display.HTML object>"
      ]
     },
     "metadata": {},
     "output_type": "display_data"
    },
    {
     "name": "stdout",
     "output_type": "stream",
     "text": [
      "city_of_london\n"
     ]
    },
    {
     "data": {
      "text/html": [
       "<a href=\"/_/pipeline/#/experiments/details/6fcd94bd-0d23-47ca-b752-d4918de54b3e\" target=\"_blank\" >Experiment details</a>."
      ],
      "text/plain": [
       "<IPython.core.display.HTML object>"
      ]
     },
     "metadata": {},
     "output_type": "display_data"
    },
    {
     "data": {
      "text/html": [
       "<a href=\"/_/pipeline/#/runs/details/4fa352c5-4810-45d6-bd28-ade4d46553dd\" target=\"_blank\" >Run details</a>."
      ],
      "text/plain": [
       "<IPython.core.display.HTML object>"
      ]
     },
     "metadata": {},
     "output_type": "display_data"
    },
    {
     "name": "stdout",
     "output_type": "stream",
     "text": [
      "city_of_markham\n"
     ]
    },
    {
     "data": {
      "text/html": [
       "<a href=\"/_/pipeline/#/experiments/details/12158464-c60d-43f8-84ef-f854823fa16d\" target=\"_blank\" >Experiment details</a>."
      ],
      "text/plain": [
       "<IPython.core.display.HTML object>"
      ]
     },
     "metadata": {},
     "output_type": "display_data"
    },
    {
     "data": {
      "text/html": [
       "<a href=\"/_/pipeline/#/runs/details/dd9ff546-d412-436f-9d51-608cd736d1c3\" target=\"_blank\" >Run details</a>."
      ],
      "text/plain": [
       "<IPython.core.display.HTML object>"
      ]
     },
     "metadata": {},
     "output_type": "display_data"
    },
    {
     "name": "stdout",
     "output_type": "stream",
     "text": [
      "middlesex_centre\n"
     ]
    },
    {
     "data": {
      "text/html": [
       "<a href=\"/_/pipeline/#/experiments/details/f7da107c-73e2-4e8e-b822-6f12a49156bc\" target=\"_blank\" >Experiment details</a>."
      ],
      "text/plain": [
       "<IPython.core.display.HTML object>"
      ]
     },
     "metadata": {},
     "output_type": "display_data"
    },
    {
     "data": {
      "text/html": [
       "<a href=\"/_/pipeline/#/runs/details/5d990e4a-05be-425f-9835-86175a4adc4d\" target=\"_blank\" >Run details</a>."
      ],
      "text/plain": [
       "<IPython.core.display.HTML object>"
      ]
     },
     "metadata": {},
     "output_type": "display_data"
    },
    {
     "name": "stdout",
     "output_type": "stream",
     "text": [
      "muskoka\n"
     ]
    },
    {
     "data": {
      "text/html": [
       "<a href=\"/_/pipeline/#/experiments/details/30298b9b-7767-4745-8d2b-f5521ade68db\" target=\"_blank\" >Experiment details</a>."
      ],
      "text/plain": [
       "<IPython.core.display.HTML object>"
      ]
     },
     "metadata": {},
     "output_type": "display_data"
    },
    {
     "data": {
      "text/html": [
       "<a href=\"/_/pipeline/#/runs/details/57a87160-c0a8-4534-82b9-282239487e31\" target=\"_blank\" >Run details</a>."
      ],
      "text/plain": [
       "<IPython.core.display.HTML object>"
      ]
     },
     "metadata": {},
     "output_type": "display_data"
    },
    {
     "name": "stdout",
     "output_type": "stream",
     "text": [
      "newmarket\n"
     ]
    },
    {
     "data": {
      "text/html": [
       "<a href=\"/_/pipeline/#/experiments/details/f36d54a8-5e43-498c-afc9-d946671b7f88\" target=\"_blank\" >Experiment details</a>."
      ],
      "text/plain": [
       "<IPython.core.display.HTML object>"
      ]
     },
     "metadata": {},
     "output_type": "display_data"
    },
    {
     "data": {
      "text/html": [
       "<a href=\"/_/pipeline/#/runs/details/174d9c77-85ee-49cd-8c0b-447eb4dcb9bf\" target=\"_blank\" >Run details</a>."
      ],
      "text/plain": [
       "<IPython.core.display.HTML object>"
      ]
     },
     "metadata": {},
     "output_type": "display_data"
    },
    {
     "name": "stdout",
     "output_type": "stream",
     "text": [
      "niagara_region\n"
     ]
    },
    {
     "data": {
      "text/html": [
       "<a href=\"/_/pipeline/#/experiments/details/aa70f134-fc0e-4547-a728-eaef92c0118a\" target=\"_blank\" >Experiment details</a>."
      ],
      "text/plain": [
       "<IPython.core.display.HTML object>"
      ]
     },
     "metadata": {},
     "output_type": "display_data"
    },
    {
     "data": {
      "text/html": [
       "<a href=\"/_/pipeline/#/runs/details/02b64812-473c-4574-8a53-60acac1d4a7d\" target=\"_blank\" >Run details</a>."
      ],
      "text/plain": [
       "<IPython.core.display.HTML object>"
      ]
     },
     "metadata": {},
     "output_type": "display_data"
    },
    {
     "name": "stdout",
     "output_type": "stream",
     "text": [
      "norfolk\n"
     ]
    },
    {
     "data": {
      "text/html": [
       "<a href=\"/_/pipeline/#/experiments/details/73f09465-a415-4d0f-a231-522dd453c044\" target=\"_blank\" >Experiment details</a>."
      ],
      "text/plain": [
       "<IPython.core.display.HTML object>"
      ]
     },
     "metadata": {},
     "output_type": "display_data"
    },
    {
     "data": {
      "text/html": [
       "<a href=\"/_/pipeline/#/runs/details/a099df4b-973e-42d5-a12a-07aba78664ae\" target=\"_blank\" >Run details</a>."
      ],
      "text/plain": [
       "<IPython.core.display.HTML object>"
      ]
     },
     "metadata": {},
     "output_type": "display_data"
    },
    {
     "name": "stdout",
     "output_type": "stream",
     "text": [
      "city_of_oakville\n"
     ]
    },
    {
     "data": {
      "text/html": [
       "<a href=\"/_/pipeline/#/experiments/details/1a4aeb88-544c-4788-8ca2-9325a600092a\" target=\"_blank\" >Experiment details</a>."
      ],
      "text/plain": [
       "<IPython.core.display.HTML object>"
      ]
     },
     "metadata": {},
     "output_type": "display_data"
    },
    {
     "data": {
      "text/html": [
       "<a href=\"/_/pipeline/#/runs/details/2398f9cc-8537-495e-b355-66710d2629ff\" target=\"_blank\" >Run details</a>."
      ],
      "text/plain": [
       "<IPython.core.display.HTML object>"
      ]
     },
     "metadata": {},
     "output_type": "display_data"
    },
    {
     "name": "stdout",
     "output_type": "stream",
     "text": [
      "orangeville\n"
     ]
    },
    {
     "data": {
      "text/html": [
       "<a href=\"/_/pipeline/#/experiments/details/1711ec45-1658-4bf6-9ed5-4014ec745d03\" target=\"_blank\" >Experiment details</a>."
      ],
      "text/plain": [
       "<IPython.core.display.HTML object>"
      ]
     },
     "metadata": {},
     "output_type": "display_data"
    },
    {
     "data": {
      "text/html": [
       "<a href=\"/_/pipeline/#/runs/details/985abf39-d4ff-48d5-918a-e2510c6d127d\" target=\"_blank\" >Run details</a>."
      ],
      "text/plain": [
       "<IPython.core.display.HTML object>"
      ]
     },
     "metadata": {},
     "output_type": "display_data"
    },
    {
     "name": "stdout",
     "output_type": "stream",
     "text": [
      "oshawa\n"
     ]
    },
    {
     "data": {
      "text/html": [
       "<a href=\"/_/pipeline/#/experiments/details/73efdd20-7f7b-4818-afe5-a1caa328fcad\" target=\"_blank\" >Experiment details</a>."
      ],
      "text/plain": [
       "<IPython.core.display.HTML object>"
      ]
     },
     "metadata": {},
     "output_type": "display_data"
    },
    {
     "data": {
      "text/html": [
       "<a href=\"/_/pipeline/#/runs/details/33ce756d-9926-4260-9db5-ae644eaf86be\" target=\"_blank\" >Run details</a>."
      ],
      "text/plain": [
       "<IPython.core.display.HTML object>"
      ]
     },
     "metadata": {},
     "output_type": "display_data"
    },
    {
     "name": "stdout",
     "output_type": "stream",
     "text": [
      "city_of_ottawa\n"
     ]
    },
    {
     "data": {
      "text/html": [
       "<a href=\"/_/pipeline/#/experiments/details/e9f0d486-ca50-48b1-bef9-f57f56feebb6\" target=\"_blank\" >Experiment details</a>."
      ],
      "text/plain": [
       "<IPython.core.display.HTML object>"
      ]
     },
     "metadata": {},
     "output_type": "display_data"
    },
    {
     "data": {
      "text/html": [
       "<a href=\"/_/pipeline/#/runs/details/60415867-f4f9-41e4-874b-3ee00d214942\" target=\"_blank\" >Run details</a>."
      ],
      "text/plain": [
       "<IPython.core.display.HTML object>"
      ]
     },
     "metadata": {},
     "output_type": "display_data"
    },
    {
     "name": "stdout",
     "output_type": "stream",
     "text": [
      "peel-region\n"
     ]
    },
    {
     "data": {
      "text/html": [
       "<a href=\"/_/pipeline/#/experiments/details/c13697de-f589-46ac-b192-00f754a589fa\" target=\"_blank\" >Experiment details</a>."
      ],
      "text/plain": [
       "<IPython.core.display.HTML object>"
      ]
     },
     "metadata": {},
     "output_type": "display_data"
    },
    {
     "data": {
      "text/html": [
       "<a href=\"/_/pipeline/#/runs/details/43d2c99d-9691-4af7-932d-eab47d6d1f3d\" target=\"_blank\" >Run details</a>."
      ],
      "text/plain": [
       "<IPython.core.display.HTML object>"
      ]
     },
     "metadata": {},
     "output_type": "display_data"
    },
    {
     "name": "stdout",
     "output_type": "stream",
     "text": [
      "city_of_peterborough\n"
     ]
    },
    {
     "data": {
      "text/html": [
       "<a href=\"/_/pipeline/#/experiments/details/2d77e380-f774-4ca3-b1e9-5ea361b2025b\" target=\"_blank\" >Experiment details</a>."
      ],
      "text/plain": [
       "<IPython.core.display.HTML object>"
      ]
     },
     "metadata": {},
     "output_type": "display_data"
    },
    {
     "data": {
      "text/html": [
       "<a href=\"/_/pipeline/#/runs/details/fb2de25c-dbf6-4e8d-9798-c70eaee84ec8\" target=\"_blank\" >Run details</a>."
      ],
      "text/plain": [
       "<IPython.core.display.HTML object>"
      ]
     },
     "metadata": {},
     "output_type": "display_data"
    },
    {
     "name": "stdout",
     "output_type": "stream",
     "text": [
      "city_of_pickering\n"
     ]
    },
    {
     "data": {
      "text/html": [
       "<a href=\"/_/pipeline/#/experiments/details/57efa624-8572-4108-97ff-7c170751dce7\" target=\"_blank\" >Experiment details</a>."
      ],
      "text/plain": [
       "<IPython.core.display.HTML object>"
      ]
     },
     "metadata": {},
     "output_type": "display_data"
    },
    {
     "data": {
      "text/html": [
       "<a href=\"/_/pipeline/#/runs/details/dbbd23ad-fc66-4da2-a001-c97ebdb9aa1d\" target=\"_blank\" >Run details</a>."
      ],
      "text/plain": [
       "<IPython.core.display.HTML object>"
      ]
     },
     "metadata": {},
     "output_type": "display_data"
    },
    {
     "name": "stdout",
     "output_type": "stream",
     "text": [
      "waterloo\n"
     ]
    },
    {
     "data": {
      "text/html": [
       "<a href=\"/_/pipeline/#/experiments/details/3b8bfe04-2b52-4b97-82b4-3025857c5394\" target=\"_blank\" >Experiment details</a>."
      ],
      "text/plain": [
       "<IPython.core.display.HTML object>"
      ]
     },
     "metadata": {},
     "output_type": "display_data"
    },
    {
     "data": {
      "text/html": [
       "<a href=\"/_/pipeline/#/runs/details/0c27ab9b-178e-40a3-b8f2-ecb746b190fc\" target=\"_blank\" >Run details</a>."
      ],
      "text/plain": [
       "<IPython.core.display.HTML object>"
      ]
     },
     "metadata": {},
     "output_type": "display_data"
    },
    {
     "name": "stdout",
     "output_type": "stream",
     "text": [
      "city_of_saint_catherines\n"
     ]
    },
    {
     "data": {
      "text/html": [
       "<a href=\"/_/pipeline/#/experiments/details/ab12d360-850f-4d12-bff0-3d1c79bea6c9\" target=\"_blank\" >Experiment details</a>."
      ],
      "text/plain": [
       "<IPython.core.display.HTML object>"
      ]
     },
     "metadata": {},
     "output_type": "display_data"
    },
    {
     "data": {
      "text/html": [
       "<a href=\"/_/pipeline/#/runs/details/fecf6a8a-b6b9-470a-b92a-0efbf6bdc2f5\" target=\"_blank\" >Run details</a>."
      ],
      "text/plain": [
       "<IPython.core.display.HTML object>"
      ]
     },
     "metadata": {},
     "output_type": "display_data"
    },
    {
     "name": "stdout",
     "output_type": "stream",
     "text": [
      "city_of_toronto\n"
     ]
    },
    {
     "data": {
      "text/html": [
       "<a href=\"/_/pipeline/#/experiments/details/806a78a8-ccb8-419a-a846-a7838df2dc2d\" target=\"_blank\" >Experiment details</a>."
      ],
      "text/plain": [
       "<IPython.core.display.HTML object>"
      ]
     },
     "metadata": {},
     "output_type": "display_data"
    },
    {
     "data": {
      "text/html": [
       "<a href=\"/_/pipeline/#/runs/details/13a192ad-07f8-45dd-97e0-3c8ffec1d6eb\" target=\"_blank\" >Run details</a>."
      ],
      "text/plain": [
       "<IPython.core.display.HTML object>"
      ]
     },
     "metadata": {},
     "output_type": "display_data"
    },
    {
     "name": "stdout",
     "output_type": "stream",
     "text": [
      "city_of_welland\n"
     ]
    },
    {
     "data": {
      "text/html": [
       "<a href=\"/_/pipeline/#/experiments/details/d965fc55-ac90-4a57-89f7-ec0699506395\" target=\"_blank\" >Experiment details</a>."
      ],
      "text/plain": [
       "<IPython.core.display.HTML object>"
      ]
     },
     "metadata": {},
     "output_type": "display_data"
    },
    {
     "data": {
      "text/html": [
       "<a href=\"/_/pipeline/#/runs/details/fac12b58-80f7-452f-bc16-e450495796f2\" target=\"_blank\" >Run details</a>."
      ],
      "text/plain": [
       "<IPython.core.display.HTML object>"
      ]
     },
     "metadata": {},
     "output_type": "display_data"
    },
    {
     "name": "stdout",
     "output_type": "stream",
     "text": [
      "west_parry_sound_district\n"
     ]
    },
    {
     "data": {
      "text/html": [
       "<a href=\"/_/pipeline/#/experiments/details/b0917669-aa9c-40e9-a964-3cc2be21dd91\" target=\"_blank\" >Experiment details</a>."
      ],
      "text/plain": [
       "<IPython.core.display.HTML object>"
      ]
     },
     "metadata": {},
     "output_type": "display_data"
    },
    {
     "data": {
      "text/html": [
       "<a href=\"/_/pipeline/#/runs/details/a3c4e194-e960-4755-905c-1ca76d0c4d48\" target=\"_blank\" >Run details</a>."
      ],
      "text/plain": [
       "<IPython.core.display.HTML object>"
      ]
     },
     "metadata": {},
     "output_type": "display_data"
    },
    {
     "name": "stdout",
     "output_type": "stream",
     "text": [
      "city_of_windsor\n"
     ]
    },
    {
     "data": {
      "text/html": [
       "<a href=\"/_/pipeline/#/experiments/details/ea3cbadf-52fc-43b1-9df8-ee0f3473f5af\" target=\"_blank\" >Experiment details</a>."
      ],
      "text/plain": [
       "<IPython.core.display.HTML object>"
      ]
     },
     "metadata": {},
     "output_type": "display_data"
    },
    {
     "data": {
      "text/html": [
       "<a href=\"/_/pipeline/#/runs/details/ef819213-dae1-4a40-b743-c64ff33bc96a\" target=\"_blank\" >Run details</a>."
      ],
      "text/plain": [
       "<IPython.core.display.HTML object>"
      ]
     },
     "metadata": {},
     "output_type": "display_data"
    },
    {
     "name": "stdout",
     "output_type": "stream",
     "text": [
      "york\n"
     ]
    },
    {
     "data": {
      "text/html": [
       "<a href=\"/_/pipeline/#/experiments/details/8a5485d5-017d-465e-b9ec-127545ec50a0\" target=\"_blank\" >Experiment details</a>."
      ],
      "text/plain": [
       "<IPython.core.display.HTML object>"
      ]
     },
     "metadata": {},
     "output_type": "display_data"
    },
    {
     "data": {
      "text/html": [
       "<a href=\"/_/pipeline/#/runs/details/2f730da3-a082-4a62-a20e-4e4d5d3d9d1f\" target=\"_blank\" >Run details</a>."
      ],
      "text/plain": [
       "<IPython.core.display.HTML object>"
      ]
     },
     "metadata": {},
     "output_type": "display_data"
    },
    {
     "name": "stdout",
     "output_type": "stream",
     "text": [
      "province\n"
     ]
    },
    {
     "data": {
      "text/html": [
       "<a href=\"/_/pipeline/#/experiments/details/50317975-bdcc-4453-942e-790bbbc89c7c\" target=\"_blank\" >Experiment details</a>."
      ],
      "text/plain": [
       "<IPython.core.display.HTML object>"
      ]
     },
     "metadata": {},
     "output_type": "display_data"
    },
    {
     "data": {
      "text/html": [
       "<a href=\"/_/pipeline/#/runs/details/663e1f14-b052-4e08-ab90-e0589b06ab92\" target=\"_blank\" >Run details</a>."
      ],
      "text/plain": [
       "<IPython.core.display.HTML object>"
      ]
     },
     "metadata": {},
     "output_type": "display_data"
    },
    {
     "name": "stdout",
     "output_type": "stream",
     "text": [
      "gatineau\n"
     ]
    },
    {
     "data": {
      "text/html": [
       "<a href=\"/_/pipeline/#/experiments/details/d73b1be6-77ef-4eac-8b77-0cc26f914529\" target=\"_blank\" >Experiment details</a>."
      ],
      "text/plain": [
       "<IPython.core.display.HTML object>"
      ]
     },
     "metadata": {},
     "output_type": "display_data"
    },
    {
     "data": {
      "text/html": [
       "<a href=\"/_/pipeline/#/runs/details/70dd37cc-e0ed-4d41-92fe-e24a8820ef35\" target=\"_blank\" >Run details</a>."
      ],
      "text/plain": [
       "<IPython.core.display.HTML object>"
      ]
     },
     "metadata": {},
     "output_type": "display_data"
    },
    {
     "name": "stdout",
     "output_type": "stream",
     "text": [
      "laval\n"
     ]
    },
    {
     "data": {
      "text/html": [
       "<a href=\"/_/pipeline/#/experiments/details/407ac007-faaa-47bf-bf82-4bcd9d0478b9\" target=\"_blank\" >Experiment details</a>."
      ],
      "text/plain": [
       "<IPython.core.display.HTML object>"
      ]
     },
     "metadata": {},
     "output_type": "display_data"
    },
    {
     "data": {
      "text/html": [
       "<a href=\"/_/pipeline/#/runs/details/ff11f777-5e49-4899-8402-ad6b3bd7dc75\" target=\"_blank\" >Run details</a>."
      ],
      "text/plain": [
       "<IPython.core.display.HTML object>"
      ]
     },
     "metadata": {},
     "output_type": "display_data"
    },
    {
     "name": "stdout",
     "output_type": "stream",
     "text": [
      "longueuil\n"
     ]
    },
    {
     "data": {
      "text/html": [
       "<a href=\"/_/pipeline/#/experiments/details/ae395cb2-0d15-4036-9f0a-61da887c93e7\" target=\"_blank\" >Experiment details</a>."
      ],
      "text/plain": [
       "<IPython.core.display.HTML object>"
      ]
     },
     "metadata": {},
     "output_type": "display_data"
    },
    {
     "data": {
      "text/html": [
       "<a href=\"/_/pipeline/#/runs/details/a2e7b39a-f563-4c75-b819-81bc8550a874\" target=\"_blank\" >Run details</a>."
      ],
      "text/plain": [
       "<IPython.core.display.HTML object>"
      ]
     },
     "metadata": {},
     "output_type": "display_data"
    },
    {
     "name": "stdout",
     "output_type": "stream",
     "text": [
      "montreal\n"
     ]
    },
    {
     "data": {
      "text/html": [
       "<a href=\"/_/pipeline/#/experiments/details/8bb7623c-f0f9-4b3e-bb79-ceb4b553609f\" target=\"_blank\" >Experiment details</a>."
      ],
      "text/plain": [
       "<IPython.core.display.HTML object>"
      ]
     },
     "metadata": {},
     "output_type": "display_data"
    },
    {
     "data": {
      "text/html": [
       "<a href=\"/_/pipeline/#/runs/details/513de1f9-1b56-4a93-a87a-c7112863654d\" target=\"_blank\" >Run details</a>."
      ],
      "text/plain": [
       "<IPython.core.display.HTML object>"
      ]
     },
     "metadata": {},
     "output_type": "display_data"
    },
    {
     "name": "stdout",
     "output_type": "stream",
     "text": [
      "quebec_city\n"
     ]
    },
    {
     "data": {
      "text/html": [
       "<a href=\"/_/pipeline/#/experiments/details/1c7c3bc6-8554-4fb3-a779-de3ee07d309e\" target=\"_blank\" >Experiment details</a>."
      ],
      "text/plain": [
       "<IPython.core.display.HTML object>"
      ]
     },
     "metadata": {},
     "output_type": "display_data"
    },
    {
     "data": {
      "text/html": [
       "<a href=\"/_/pipeline/#/runs/details/85531b3d-59ba-484a-aac4-a456f13e6ccb\" target=\"_blank\" >Run details</a>."
      ],
      "text/plain": [
       "<IPython.core.display.HTML object>"
      ]
     },
     "metadata": {},
     "output_type": "display_data"
    },
    {
     "name": "stdout",
     "output_type": "stream",
     "text": [
      "repentigny\n"
     ]
    },
    {
     "data": {
      "text/html": [
       "<a href=\"/_/pipeline/#/experiments/details/9e37b119-3bcd-410e-a1d9-7ce07e1d81ed\" target=\"_blank\" >Experiment details</a>."
      ],
      "text/plain": [
       "<IPython.core.display.HTML object>"
      ]
     },
     "metadata": {},
     "output_type": "display_data"
    },
    {
     "data": {
      "text/html": [
       "<a href=\"/_/pipeline/#/runs/details/a8e6baea-a13f-4bf9-85bc-eb911249c6ce\" target=\"_blank\" >Run details</a>."
      ],
      "text/plain": [
       "<IPython.core.display.HTML object>"
      ]
     },
     "metadata": {},
     "output_type": "display_data"
    },
    {
     "name": "stdout",
     "output_type": "stream",
     "text": [
      "rimouski\n"
     ]
    },
    {
     "data": {
      "text/html": [
       "<a href=\"/_/pipeline/#/experiments/details/1ceccc4a-e7c6-4f1e-9b60-56c40ff7f477\" target=\"_blank\" >Experiment details</a>."
      ],
      "text/plain": [
       "<IPython.core.display.HTML object>"
      ]
     },
     "metadata": {},
     "output_type": "display_data"
    },
    {
     "data": {
      "text/html": [
       "<a href=\"/_/pipeline/#/runs/details/34703d81-9d20-4c06-8b5a-b5058d4451d8\" target=\"_blank\" >Run details</a>."
      ],
      "text/plain": [
       "<IPython.core.display.HTML object>"
      ]
     },
     "metadata": {},
     "output_type": "display_data"
    },
    {
     "name": "stdout",
     "output_type": "stream",
     "text": [
      "rouyn_noranda\n"
     ]
    },
    {
     "data": {
      "text/html": [
       "<a href=\"/_/pipeline/#/experiments/details/7566dabd-ef6b-43ae-85f8-70097185fcde\" target=\"_blank\" >Experiment details</a>."
      ],
      "text/plain": [
       "<IPython.core.display.HTML object>"
      ]
     },
     "metadata": {},
     "output_type": "display_data"
    },
    {
     "data": {
      "text/html": [
       "<a href=\"/_/pipeline/#/runs/details/d931a04e-7951-45ff-bc09-9720e2a79923\" target=\"_blank\" >Run details</a>."
      ],
      "text/plain": [
       "<IPython.core.display.HTML object>"
      ]
     },
     "metadata": {},
     "output_type": "display_data"
    },
    {
     "name": "stdout",
     "output_type": "stream",
     "text": [
      "regina\n"
     ]
    },
    {
     "data": {
      "text/html": [
       "<a href=\"/_/pipeline/#/experiments/details/ef254b14-e752-4478-af79-4f7514ad45f5\" target=\"_blank\" >Experiment details</a>."
      ],
      "text/plain": [
       "<IPython.core.display.HTML object>"
      ]
     },
     "metadata": {},
     "output_type": "display_data"
    },
    {
     "data": {
      "text/html": [
       "<a href=\"/_/pipeline/#/runs/details/e81ab064-e72b-4258-a123-a30fbcd95ec9\" target=\"_blank\" >Run details</a>."
      ],
      "text/plain": [
       "<IPython.core.display.HTML object>"
      ]
     },
     "metadata": {},
     "output_type": "display_data"
    },
    {
     "name": "stdout",
     "output_type": "stream",
     "text": [
      "saskatoon\n"
     ]
    },
    {
     "data": {
      "text/html": [
       "<a href=\"/_/pipeline/#/experiments/details/ee50d230-81e1-46d9-8f99-d45c7735eee6\" target=\"_blank\" >Experiment details</a>."
      ],
      "text/plain": [
       "<IPython.core.display.HTML object>"
      ]
     },
     "metadata": {},
     "output_type": "display_data"
    },
    {
     "data": {
      "text/html": [
       "<a href=\"/_/pipeline/#/runs/details/409df52d-c2fe-4550-a01d-1e6f756bfbee\" target=\"_blank\" >Run details</a>."
      ],
      "text/plain": [
       "<IPython.core.display.HTML object>"
      ]
     },
     "metadata": {},
     "output_type": "display_data"
    }
   ],
   "source": [
    "# Loop through all jsons and run pipeline\n",
    "skip=False\n",
    "\n",
    "provs=list(sources[\"GEO_PROV\"])\n",
    "s_list=list(sources[\"JSON_NAME\"])\n",
    "temp=list(zip(provs,s_list))\n",
    "for pr, s in temp:\n",
    "    #if s=='longueuil':\n",
    "        #skip=False\n",
    "    if skip==False:\n",
    "        time.sleep(20)\n",
    "        print(s)\n",
    "        json_source_file = \"{}/{}/{}.json\".format(OA_path,pr,s)\n",
    "        with open(json_source_file, 'r') as fin:\n",
    "            source_json = json.load(fin)\n",
    "            layer = source_json['layers']['addresses'][0]['name']\n",
    "            name = pr+'_'+s.replace('.json','')\n",
    "            openaddresses_args = \"--layer addresses --layersource {}\".format(layer)\n",
    "            minio_output_uri = '{}/ODA/OA_Processing/Output/{}/{}/{}'.format(minio_bucket_name, date, pr, name)\n",
    "            arguments = dict(\n",
    "                source_json=json.dumps(source_json),\n",
    "                openaddresses_args=openaddresses_args,\n",
    "                minio_output_uri=minio_output_uri,\n",
    "                minio_url=minio_url,\n",
    "                minio_access_key=minio_access_key,\n",
    "                minio_secret_key=minio_secret_key,\n",
    "                )\n",
    "            client = kfp.Client()\n",
    "            experiment = client.create_experiment(name=name)\n",
    "            pipeline_run = kfp.Client().run_pipeline(\n",
    "                experiment_id=experiment.id,\n",
    "                pipeline_id='',\n",
    "                params=arguments,\n",
    "                job_name=name\n",
    "                    )\n"
   ]
  },
  {
   "cell_type": "code",
   "execution_count": 35,
   "metadata": {
    "execution": {
     "iopub.execute_input": "2020-12-08T21:10:44.590821Z",
     "iopub.status.busy": "2020-12-08T21:10:44.590563Z",
     "iopub.status.idle": "2020-12-08T21:10:44.594923Z",
     "shell.execute_reply": "2020-12-08T21:10:44.594097Z",
     "shell.execute_reply.started": "2020-12-08T21:10:44.590794Z"
    }
   },
   "outputs": [
    {
     "name": "stdout",
     "output_type": "stream",
     "text": [
      "cowichan_valley.json\n"
     ]
    }
   ],
   "source": [
    "print(s)"
   ]
  },
  {
   "cell_type": "code",
   "execution_count": 32,
   "metadata": {
    "execution": {
     "iopub.execute_input": "2020-12-08T21:01:35.425497Z",
     "iopub.status.busy": "2020-12-08T21:01:35.425225Z",
     "iopub.status.idle": "2020-12-08T21:01:35.429317Z",
     "shell.execute_reply": "2020-12-08T21:01:35.428578Z",
     "shell.execute_reply.started": "2020-12-08T21:01:35.425467Z"
    }
   },
   "outputs": [
    {
     "name": "stdout",
     "output_type": "stream",
     "text": [
      "{'coverage': {'country': 'ca', 'state': 'on', 'county': 'North Glengarry'}, 'schema': 2, 'layers': {'addresses': [{'name': 'county', 'protocol': 'http', 'compression': 'zip', 'data': 'https://data.openaddresses.io/cache/ca-on-north_glengarry.zip', 'note': 'Obtained via FOI Request June 2016 by nicholas ingalls <nicholas.ingalls@gmail.com>', 'conform': {'number': {'function': 'regexp', 'field': 'LOCATION', 'pattern': '^([0-9]+(?:\\\\-[0-9]+)?)(?: .*)'}, 'street': 'STREETNAME', 'format': 'shapefile'}}]}}\n"
     ]
    }
   ],
   "source": [
    "print(source_json)"
   ]
  },
  {
   "cell_type": "code",
   "execution_count": 33,
   "metadata": {
    "execution": {
     "iopub.execute_input": "2020-12-08T21:05:16.282918Z",
     "iopub.status.busy": "2020-12-08T21:05:16.282634Z",
     "iopub.status.idle": "2020-12-08T21:05:16.286967Z",
     "shell.execute_reply": "2020-12-08T21:05:16.286174Z",
     "shell.execute_reply.started": "2020-12-08T21:05:16.282887Z"
    }
   },
   "outputs": [
    {
     "name": "stdout",
     "output_type": "stream",
     "text": [
      "/home/jovyan/data-vol-1/openaddresses_mod/sources/ca/on/city_of_waterloo.json\n"
     ]
    }
   ],
   "source": [
    "print(json_source_file)"
   ]
  },
  {
   "cell_type": "code",
   "execution_count": null,
   "metadata": {},
   "outputs": [],
   "source": []
  }
 ],
 "metadata": {
  "kernelspec": {
   "display_name": "Python 3",
   "language": "python",
   "name": "python3"
  },
  "kubeflow_notebook": {
   "autosnapshot": false,
   "docker_image": "k8scc01covidacr.azurecr.io/jupyterlab-cpu:c9451340",
   "experiment": {
    "id": "",
    "name": ""
   },
   "experiment_name": "",
   "katib_metadata": {
    "algorithm": {
     "algorithmName": "grid"
    },
    "maxFailedTrialCount": 3,
    "maxTrialCount": 12,
    "objective": {
     "objectiveMetricName": "",
     "type": "minimize"
    },
    "parallelTrialCount": 3,
    "parameters": []
   },
   "katib_run": false,
   "pipeline_description": "",
   "pipeline_name": "",
   "snapshot_volumes": false,
   "steps_defaults": [],
   "volume_access_mode": "rwm",
   "volumes": []
  },
  "language_info": {
   "codemirror_mode": {
    "name": "ipython",
    "version": 3
   },
   "file_extension": ".py",
   "mimetype": "text/x-python",
   "name": "python",
   "nbconvert_exporter": "python",
   "pygments_lexer": "ipython3",
   "version": "3.7.3"
  }
 },
 "nbformat": 4,
 "nbformat_minor": 4
}
