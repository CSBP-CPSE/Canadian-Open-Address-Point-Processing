{
 "cells": [
  {
   "cell_type": "code",
   "execution_count": 5,
   "metadata": {
    "execution": {
     "iopub.execute_input": "2021-02-02T15:27:37.763734Z",
     "iopub.status.busy": "2021-02-02T15:27:37.763467Z",
     "iopub.status.idle": "2021-02-02T15:27:37.789947Z",
     "shell.execute_reply": "2021-02-02T15:27:37.789238Z",
     "shell.execute_reply.started": "2021-02-02T15:27:37.763708Z"
    }
   },
   "outputs": [],
   "source": [
    "import pandas as pd\n",
    "\n",
    "df=pd.read_excel(\"/home/jovyan/data-vol-1/ODA/processing/valid_sources.xlsx\")\n",
    "\n",
    "Dates=list(df['Date'].str.strip(\"'\"))\n",
    "names=list(df['JSON_NAME'])\n",
    "provs=list(df['GEO_PROV'])"
   ]
  },
  {
   "cell_type": "code",
   "execution_count": 6,
   "metadata": {
    "execution": {
     "iopub.execute_input": "2021-02-02T15:27:38.653939Z",
     "iopub.status.busy": "2021-02-02T15:27:38.653646Z",
     "iopub.status.idle": "2021-02-02T15:27:38.660213Z",
     "shell.execute_reply": "2021-02-02T15:27:38.659477Z",
     "shell.execute_reply.started": "2021-02-02T15:27:38.653913Z"
    }
   },
   "outputs": [],
   "source": [
    "f_out='run_all.sh'\n",
    "f = open(f_out, 'w')\n",
    "for i in range(len(df)):\n",
    "    pr=provs[i].lower()\n",
    "    date=Dates[i]\n",
    "    s=names[i]\n",
    "\n",
    "    line1=\"mc cp standard/deil-lode/deil-lode/ODA/OA_PostProcessing/1_Parsing/{}/{}_out.csv /home/jovyan/data-vol-1/ODA/processing/temporary_files/{}_in.csv \\n\".format(pr,s,s)\n",
    "    line2=\"python Dedupe.py {} \\n\".format(s)\n",
    "    line3=\"rm /home/jovyan/data-vol-1/ODA/processing/temporary_files/*_in.csv \\n\"\n",
    "\n",
    "    line4=\"mc cp /home/jovyan/data-vol-1/ODA/processing/temporary_files/*.csv standard/deil-lode/deil-lode/ODA/OA_PostProcessing/2_Dedupe/{}/ \\n\".format(pr)\n",
    "    line5=\"rm /home/jovyan/data-vol-1/ODA/processing/temporary_files/*.csv \\n\"\n",
    "\n",
    "    f.write(line1)\n",
    "    f.write(line2)\n",
    "    f.write(line3)\n",
    "    f.write(line4)\n",
    "    f.write(line5)\n",
    "\n",
    "f.close()"
   ]
  },
  {
   "cell_type": "code",
   "execution_count": null,
   "metadata": {},
   "outputs": [],
   "source": []
  }
 ],
 "metadata": {
  "kernelspec": {
   "display_name": "Python 3",
   "language": "python",
   "name": "python3"
  },
  "kubeflow_notebook": {
   "autosnapshot": false,
   "docker_image": "k8scc01covidacr.azurecr.io/jupyterlab-cpu:ee176847",
   "experiment": {
    "id": "",
    "name": ""
   },
   "experiment_name": "",
   "katib_metadata": {
    "algorithm": {
     "algorithmName": "grid"
    },
    "maxFailedTrialCount": 3,
    "maxTrialCount": 12,
    "objective": {
     "objectiveMetricName": "",
     "type": "minimize"
    },
    "parallelTrialCount": 3,
    "parameters": []
   },
   "katib_run": false,
   "pipeline_description": "",
   "pipeline_name": "",
   "snapshot_volumes": false,
   "steps_defaults": [],
   "volume_access_mode": "rwm",
   "volumes": []
  },
  "language_info": {
   "codemirror_mode": {
    "name": "ipython",
    "version": 3
   },
   "file_extension": ".py",
   "mimetype": "text/x-python",
   "name": "python",
   "nbconvert_exporter": "python",
   "pygments_lexer": "ipython3",
   "version": "3.8.6"
  }
 },
 "nbformat": 4,
 "nbformat_minor": 4
}
