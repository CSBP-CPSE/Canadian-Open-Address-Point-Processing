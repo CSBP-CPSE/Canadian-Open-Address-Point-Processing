{
 "cells": [
  {
   "cell_type": "code",
   "execution_count": 1,
   "metadata": {
    "execution": {
     "iopub.execute_input": "2021-02-26T14:28:47.024697Z",
     "iopub.status.busy": "2021-02-26T14:28:47.024245Z",
     "iopub.status.idle": "2021-02-26T14:28:47.201234Z",
     "shell.execute_reply": "2021-02-26T14:28:47.200525Z",
     "shell.execute_reply.started": "2021-02-26T14:28:47.024650Z"
    }
   },
   "outputs": [],
   "source": [
    "import pandas as pd\n",
    "\n",
    "df=pd.read_excel(\"/home/jovyan/data-vol-1/ODA/processing/valid_sources.xlsx\")\n",
    "OA_PATH = \"/home/jovyan/data-vol-1/ODA/openaddresses_mod/sources/ca\"\n",
    "\n",
    "Dates=list(df['Date'].str.strip(\"'\"))\n",
    "names=list(df['JSON_NAME'])\n",
    "provs=list(df['GEO_PROV'])"
   ]
  },
  {
   "cell_type": "code",
   "execution_count": 2,
   "metadata": {
    "execution": {
     "iopub.execute_input": "2021-02-26T14:28:47.896738Z",
     "iopub.status.busy": "2021-02-26T14:28:47.896372Z",
     "iopub.status.idle": "2021-02-26T14:28:47.922199Z",
     "shell.execute_reply": "2021-02-26T14:28:47.921361Z",
     "shell.execute_reply.started": "2021-02-26T14:28:47.896701Z"
    }
   },
   "outputs": [],
   "source": [
    "f_out='run_all.sh'\n",
    "f = open(f_out, 'w')\n",
    "for i in range(len(df)):\n",
    "    pr=provs[i].lower()\n",
    "    date=Dates[i]\n",
    "    s=names[i]\n",
    "    json_source_file = \"{}/{}/{}.json\".format(OA_PATH,pr,s)\n",
    "    with open(json_source_file, 'r') as fin:\n",
    "        source_json = json.load(fin)\n",
    "        layer = source_json['layers']['addresses'][0]['name']\n",
    "    \n",
    "    line1=\"mc cp standard/deil-lode/deil-lode/ODA/OA_Processing/Output/{}/{}/{}_{}/data/data/addresses/{}/out.csv /home/jovyan/data-vol-1/ODA/processing/temporary_files/{}.csv \\n\".format(date,pr,pr,s,layer,s)\n",
    "    line2=\"python standardise.py {} {}.csv {} {}_1.csv\\n\".format(pr,s,json_source_file,s)\n",
    "    line3=\"mc cp /home/jovyan/data-vol-1/ODA/processing/temporary_files/{}_1.csv standard/deil-lode/deil-lode/ODA/OA_PostProcessing/1_Parsing/{}/{}_out.csv\\n\".format(s,pr,s)\n",
    "    line4=\"rm /home/jovyan/data-vol-1/ODA/processing/temporary_files/*.csv \\n\"\n",
    "\n",
    "    f.write(line1)\n",
    "    f.write(line2)\n",
    "    f.write(line3)\n",
    "    f.write(line4)\n",
    "\n",
    "f.close()"
   ]
  },
  {
   "cell_type": "code",
   "execution_count": null,
   "metadata": {},
   "outputs": [],
   "source": []
  }
 ],
 "metadata": {
  "kernelspec": {
   "display_name": "Python 3",
   "language": "python",
   "name": "python3"
  },
  "kubeflow_notebook": {
   "autosnapshot": false,
   "docker_image": "k8scc01covidacr.azurecr.io/jupyterlab-cpu:ee176847",
   "experiment": {
    "id": "",
    "name": ""
   },
   "experiment_name": "",
   "katib_metadata": {
    "algorithm": {
     "algorithmName": "grid"
    },
    "maxFailedTrialCount": 3,
    "maxTrialCount": 12,
    "objective": {
     "objectiveMetricName": "",
     "type": "minimize"
    },
    "parallelTrialCount": 3,
    "parameters": []
   },
   "katib_run": false,
   "pipeline_description": "",
   "pipeline_name": "",
   "snapshot_volumes": false,
   "steps_defaults": [],
   "volume_access_mode": "rwm",
   "volumes": []
  },
  "language_info": {
   "codemirror_mode": {
    "name": "ipython",
    "version": 3
   },
   "file_extension": ".py",
   "mimetype": "text/x-python",
   "name": "python",
   "nbconvert_exporter": "python",
   "pygments_lexer": "ipython3",
   "version": "3.8.6"
  }
 },
 "nbformat": 4,
 "nbformat_minor": 4
}
